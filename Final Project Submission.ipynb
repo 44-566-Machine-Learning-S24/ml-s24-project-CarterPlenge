{
 "cells": [
  {
   "cell_type": "markdown",
   "id": "d28f2158-0256-482d-96e0-2e0a5896dc7b",
   "metadata": {},
   "source": [
    "# Read Me"
   ]
  },
  {
   "cell_type": "markdown",
   "id": "b176ba2b-1914-45c3-b0c1-f0c1e732f6e4",
   "metadata": {},
   "source": [
    "#### Overview Of the Project:\n",
    "Data use\n"
   ]
  },
  {
   "cell_type": "code",
   "execution_count": null,
   "id": "09afb0ab-cc60-49fa-98c6-40b67a0b44a2",
   "metadata": {},
   "outputs": [],
   "source": []
  }
 ],
 "metadata": {
  "kernelspec": {
   "display_name": "Python 3 (ipykernel)",
   "language": "python",
   "name": "python3"
  },
  "language_info": {
   "codemirror_mode": {
    "name": "ipython",
    "version": 3
   },
   "file_extension": ".py",
   "mimetype": "text/x-python",
   "name": "python",
   "nbconvert_exporter": "python",
   "pygments_lexer": "ipython3",
   "version": "3.11.5"
  }
 },
 "nbformat": 4,
 "nbformat_minor": 5
}
