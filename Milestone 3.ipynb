{
 "cells": [
  {
   "cell_type": "markdown",
   "id": "d9cac317-794a-4235-87f0-4cf43d878fe6",
   "metadata": {},
   "source": [
    "Final Analysis"
   ]
  },
  {
   "cell_type": "code",
   "execution_count": 1,
   "id": "d0efb0d1-f3ef-4bda-ae1e-ae2f5fd712e6",
   "metadata": {},
   "outputs": [],
   "source": [
    "import pandas as pd\n",
    "#import the csv files\n",
    "weather = pd.read_csv(\"seattle-weather.csv\")\n",
    "\n",
    "weather[\"date\"] = pd.to_datetime(weather[\"date\"])\n",
    "\n",
    "#convert weather field into numerical values\n",
    "weather_mapping = {'drizzle': 0, 'rain': 1, 'sun': 2, 'snow': 3, 'fog': 4}\n",
    "weather[\"weather\"] = weather[\"weather\"].map(weather_mapping)\n",
    "\n",
    "weather.dropna()\n",
    "weather.drop(columns=[\"date\"])\n",
    "\n",
    "\n",
    "X = weather[[\"temp_max\",\"precipitation\",\"wind\"]]\n",
    "Y = weather[\"weather\"]"
   ]
  },
  {
   "cell_type": "markdown",
   "id": "7b3aa3b2-e19c-4df7-a040-4358a7fc060b",
   "metadata": {},
   "source": [
    "Creating A K-means cluster classifier"
   ]
  },
  {
   "cell_type": "code",
   "execution_count": 2,
   "id": "93b651e0-36b7-42cc-b822-bbe415adcfa3",
   "metadata": {},
   "outputs": [
    {
     "name": "stderr",
     "output_type": "stream",
     "text": [
      "C:\\Users\\s553982\\AppData\\Local\\anaconda3\\Lib\\site-packages\\sklearn\\cluster\\_kmeans.py:1412: FutureWarning: The default value of `n_init` will change from 10 to 'auto' in 1.4. Set the value of `n_init` explicitly to suppress the warning\n",
      "  super()._check_params_vs_input(X, default_n_init=10)\n",
      "C:\\Users\\s553982\\AppData\\Local\\anaconda3\\Lib\\site-packages\\sklearn\\cluster\\_kmeans.py:1436: UserWarning: KMeans is known to have a memory leak on Windows with MKL, when there are less chunks than available threads. You can avoid it by setting the environment variable OMP_NUM_THREADS=6.\n",
      "  warnings.warn(\n"
     ]
    },
    {
     "data": {
      "text/html": [
       "<style>#sk-container-id-1 {color: black;}#sk-container-id-1 pre{padding: 0;}#sk-container-id-1 div.sk-toggleable {background-color: white;}#sk-container-id-1 label.sk-toggleable__label {cursor: pointer;display: block;width: 100%;margin-bottom: 0;padding: 0.3em;box-sizing: border-box;text-align: center;}#sk-container-id-1 label.sk-toggleable__label-arrow:before {content: \"▸\";float: left;margin-right: 0.25em;color: #696969;}#sk-container-id-1 label.sk-toggleable__label-arrow:hover:before {color: black;}#sk-container-id-1 div.sk-estimator:hover label.sk-toggleable__label-arrow:before {color: black;}#sk-container-id-1 div.sk-toggleable__content {max-height: 0;max-width: 0;overflow: hidden;text-align: left;background-color: #f0f8ff;}#sk-container-id-1 div.sk-toggleable__content pre {margin: 0.2em;color: black;border-radius: 0.25em;background-color: #f0f8ff;}#sk-container-id-1 input.sk-toggleable__control:checked~div.sk-toggleable__content {max-height: 200px;max-width: 100%;overflow: auto;}#sk-container-id-1 input.sk-toggleable__control:checked~label.sk-toggleable__label-arrow:before {content: \"▾\";}#sk-container-id-1 div.sk-estimator input.sk-toggleable__control:checked~label.sk-toggleable__label {background-color: #d4ebff;}#sk-container-id-1 div.sk-label input.sk-toggleable__control:checked~label.sk-toggleable__label {background-color: #d4ebff;}#sk-container-id-1 input.sk-hidden--visually {border: 0;clip: rect(1px 1px 1px 1px);clip: rect(1px, 1px, 1px, 1px);height: 1px;margin: -1px;overflow: hidden;padding: 0;position: absolute;width: 1px;}#sk-container-id-1 div.sk-estimator {font-family: monospace;background-color: #f0f8ff;border: 1px dotted black;border-radius: 0.25em;box-sizing: border-box;margin-bottom: 0.5em;}#sk-container-id-1 div.sk-estimator:hover {background-color: #d4ebff;}#sk-container-id-1 div.sk-parallel-item::after {content: \"\";width: 100%;border-bottom: 1px solid gray;flex-grow: 1;}#sk-container-id-1 div.sk-label:hover label.sk-toggleable__label {background-color: #d4ebff;}#sk-container-id-1 div.sk-serial::before {content: \"\";position: absolute;border-left: 1px solid gray;box-sizing: border-box;top: 0;bottom: 0;left: 50%;z-index: 0;}#sk-container-id-1 div.sk-serial {display: flex;flex-direction: column;align-items: center;background-color: white;padding-right: 0.2em;padding-left: 0.2em;position: relative;}#sk-container-id-1 div.sk-item {position: relative;z-index: 1;}#sk-container-id-1 div.sk-parallel {display: flex;align-items: stretch;justify-content: center;background-color: white;position: relative;}#sk-container-id-1 div.sk-item::before, #sk-container-id-1 div.sk-parallel-item::before {content: \"\";position: absolute;border-left: 1px solid gray;box-sizing: border-box;top: 0;bottom: 0;left: 50%;z-index: -1;}#sk-container-id-1 div.sk-parallel-item {display: flex;flex-direction: column;z-index: 1;position: relative;background-color: white;}#sk-container-id-1 div.sk-parallel-item:first-child::after {align-self: flex-end;width: 50%;}#sk-container-id-1 div.sk-parallel-item:last-child::after {align-self: flex-start;width: 50%;}#sk-container-id-1 div.sk-parallel-item:only-child::after {width: 0;}#sk-container-id-1 div.sk-dashed-wrapped {border: 1px dashed gray;margin: 0 0.4em 0.5em 0.4em;box-sizing: border-box;padding-bottom: 0.4em;background-color: white;}#sk-container-id-1 div.sk-label label {font-family: monospace;font-weight: bold;display: inline-block;line-height: 1.2em;}#sk-container-id-1 div.sk-label-container {text-align: center;}#sk-container-id-1 div.sk-container {/* jupyter's `normalize.less` sets `[hidden] { display: none; }` but bootstrap.min.css set `[hidden] { display: none !important; }` so we also need the `!important` here to be able to override the default hidden behavior on the sphinx rendered scikit-learn.org. See: https://github.com/scikit-learn/scikit-learn/issues/21755 */display: inline-block !important;position: relative;}#sk-container-id-1 div.sk-text-repr-fallback {display: none;}</style><div id=\"sk-container-id-1\" class=\"sk-top-container\"><div class=\"sk-text-repr-fallback\"><pre>KMeans(n_clusters=2)</pre><b>In a Jupyter environment, please rerun this cell to show the HTML representation or trust the notebook. <br />On GitHub, the HTML representation is unable to render, please try loading this page with nbviewer.org.</b></div><div class=\"sk-container\" hidden><div class=\"sk-item\"><div class=\"sk-estimator sk-toggleable\"><input class=\"sk-toggleable__control sk-hidden--visually\" id=\"sk-estimator-id-1\" type=\"checkbox\" checked><label for=\"sk-estimator-id-1\" class=\"sk-toggleable__label sk-toggleable__label-arrow\">KMeans</label><div class=\"sk-toggleable__content\"><pre>KMeans(n_clusters=2)</pre></div></div></div></div></div>"
      ],
      "text/plain": [
       "KMeans(n_clusters=2)"
      ]
     },
     "execution_count": 2,
     "metadata": {},
     "output_type": "execute_result"
    }
   ],
   "source": [
    "from sklearn.cluster import KMeans\n",
    "\n",
    "\n",
    "kmeans_classifier = KMeans(n_clusters=2)\n",
    "kmeans_classifier.fit(X)"
   ]
  },
  {
   "cell_type": "code",
   "execution_count": 3,
   "id": "bb384eb7-0774-4362-a547-135bfe374f28",
   "metadata": {},
   "outputs": [
    {
     "name": "stdout",
     "output_type": "stream",
     "text": [
      "The distortion is  83795.34126465926\n",
      "Averaging and taking the square root gives  7.573294214531916\n"
     ]
    }
   ],
   "source": [
    "import math\n",
    "print(\"The distortion is \", kmeans_classifier.inertia_)\n",
    "\n",
    "RMS_average = math.sqrt(kmeans_classifier.inertia_ / len(X))\n",
    "\n",
    "print(\"Averaging and taking the square root gives \", RMS_average)\n",
    "\n"
   ]
  },
  {
   "cell_type": "code",
   "execution_count": 4,
   "id": "06ebaa3b-accd-477d-abb7-c7872187e945",
   "metadata": {},
   "outputs": [
    {
     "name": "stdout",
     "output_type": "stream",
     "text": [
      "The centroids are  [[23.4792393   0.34009509  2.86307448]\n",
      " [11.08686747  5.0739759   3.52855422]]\n",
      "Assignments are: \n",
      "[1 1 1 ... 1 1 1]\n"
     ]
    }
   ],
   "source": [
    "print(\"The centroids are \", kmeans_classifier.cluster_centers_)\n",
    "\n",
    "print(\"Assignments are: \")\n",
    "print(kmeans_classifier.labels_)\n"
   ]
  },
  {
   "cell_type": "code",
   "execution_count": 5,
   "id": "3a8573a1-b4b0-4231-8019-f7708fb70dd2",
   "metadata": {},
   "outputs": [
    {
     "name": "stdout",
     "output_type": "stream",
     "text": [
      "The average silhouette score is:  0.44867939458612466\n"
     ]
    }
   ],
   "source": [
    "from sklearn.metrics import silhouette_score\n",
    "\n",
    "silhouette_avg = silhouette_score(X, kmeans_classifier.labels_)\n",
    "print(\"The average silhouette score is: \", silhouette_avg)\n"
   ]
  },
  {
   "cell_type": "markdown",
   "id": "6c126a46-322c-4c8e-a6f1-218bd93d2eff",
   "metadata": {},
   "source": [
    "The fewer clusters I use the better silhouette score I obtain. Because of this, I presume that the data is not predictable using clustering. "
   ]
  },
  {
   "cell_type": "code",
   "execution_count": 6,
   "id": "83c9b22a-b3ca-4bde-b7aa-ac4443fe5c87",
   "metadata": {},
   "outputs": [],
   "source": [
    "from sklearn.model_selection import train_test_split\n",
    "from sklearn.linear_model import ElasticNet\n",
    "train_set, test_set = train_test_split(weather,test_size=0.2,random_state=123)\n",
    "reg = ElasticNet(alpha = 1.0, l1_ratio=0.5)\n",
    "use = [\"temp_max\",\"wind\", \"precipitation\"]\n",
    "find = [\"weather\"]\n",
    "X_train = train_set[use]\n",
    "y_train = train_set[find]\n",
    "\n",
    "X_test = test_set[use]\n",
    "y_test = test_set[find]\n",
    "\n"
   ]
  },
  {
   "cell_type": "code",
   "execution_count": 7,
   "id": "2cb67da3-3472-467c-ade2-6e38bef2f5e3",
   "metadata": {},
   "outputs": [
    {
     "data": {
      "image/png": "[encoded data removed]",
      "text/plain": [
       "<Figure size 640x480 with 1 Axes>"
      ]
     },
     "metadata": {},
     "output_type": "display_data"
    }
   ],
   "source": [
    "import numpy as np\n",
    "from sklearn.decomposition import PCA\n",
    "pca = PCA()\n",
    "pca.fit(X)\n",
    "cumulative_sums = np.cumsum(pca.explained_variance_ratio_)\n",
    "\n",
    "import matplotlib.pyplot as plt\n",
    "d_values = [i+1 for i in range(0,len(cumulative_sums))]\n",
    "plt.plot(d_values, cumulative_sums)\n",
    "plt.show()\n",
    "\n"
   ]
  },
  {
   "cell_type": "markdown",
   "id": "06a92433-b89c-4f5e-a970-b8a6d3fb3a64",
   "metadata": {},
   "source": [
    "This graph looks weird when compared to the one in the example you provided. That one took ~100 while this one took 2.\n"
   ]
  },
  {
   "cell_type": "code",
   "execution_count": 8,
   "id": "114844cc-9843-43eb-a11d-692e9fb7ee33",
   "metadata": {},
   "outputs": [
    {
     "name": "stdout",
     "output_type": "stream",
     "text": [
      "Pipeline(steps=[('pca', PCA(n_components=3)),\n",
      "                ('svc', SVC(max_iter=500, random_state=29, tol=0.1))])\n"
     ]
    },
    {
     "name": "stderr",
     "output_type": "stream",
     "text": [
      "C:\\Users\\s553982\\AppData\\Local\\anaconda3\\Lib\\site-packages\\sklearn\\utils\\validation.py:1184: DataConversionWarning: A column-vector y was passed when a 1d array was expected. Please change the shape of y to (n_samples, ), for example using ravel().\n",
      "  y = column_or_1d(y, warn=True)\n"
     ]
    },
    {
     "data": {
      "text/html": [
       "<style>#sk-container-id-2 {color: black;}#sk-container-id-2 pre{padding: 0;}#sk-container-id-2 div.sk-toggleable {background-color: white;}#sk-container-id-2 label.sk-toggleable__label {cursor: pointer;display: block;width: 100%;margin-bottom: 0;padding: 0.3em;box-sizing: border-box;text-align: center;}#sk-container-id-2 label.sk-toggleable__label-arrow:before {content: \"▸\";float: left;margin-right: 0.25em;color: #696969;}#sk-container-id-2 label.sk-toggleable__label-arrow:hover:before {color: black;}#sk-container-id-2 div.sk-estimator:hover label.sk-toggleable__label-arrow:before {color: black;}#sk-container-id-2 div.sk-toggleable__content {max-height: 0;max-width: 0;overflow: hidden;text-align: left;background-color: #f0f8ff;}#sk-container-id-2 div.sk-toggleable__content pre {margin: 0.2em;color: black;border-radius: 0.25em;background-color: #f0f8ff;}#sk-container-id-2 input.sk-toggleable__control:checked~div.sk-toggleable__content {max-height: 200px;max-width: 100%;overflow: auto;}#sk-container-id-2 input.sk-toggleable__control:checked~label.sk-toggleable__label-arrow:before {content: \"▾\";}#sk-container-id-2 div.sk-estimator input.sk-toggleable__control:checked~label.sk-toggleable__label {background-color: #d4ebff;}#sk-container-id-2 div.sk-label input.sk-toggleable__control:checked~label.sk-toggleable__label {background-color: #d4ebff;}#sk-container-id-2 input.sk-hidden--visually {border: 0;clip: rect(1px 1px 1px 1px);clip: rect(1px, 1px, 1px, 1px);height: 1px;margin: -1px;overflow: hidden;padding: 0;position: absolute;width: 1px;}#sk-container-id-2 div.sk-estimator {font-family: monospace;background-color: #f0f8ff;border: 1px dotted black;border-radius: 0.25em;box-sizing: border-box;margin-bottom: 0.5em;}#sk-container-id-2 div.sk-estimator:hover {background-color: #d4ebff;}#sk-container-id-2 div.sk-parallel-item::after {content: \"\";width: 100%;border-bottom: 1px solid gray;flex-grow: 1;}#sk-container-id-2 div.sk-label:hover label.sk-toggleable__label {background-color: #d4ebff;}#sk-container-id-2 div.sk-serial::before {content: \"\";position: absolute;border-left: 1px solid gray;box-sizing: border-box;top: 0;bottom: 0;left: 50%;z-index: 0;}#sk-container-id-2 div.sk-serial {display: flex;flex-direction: column;align-items: center;background-color: white;padding-right: 0.2em;padding-left: 0.2em;position: relative;}#sk-container-id-2 div.sk-item {position: relative;z-index: 1;}#sk-container-id-2 div.sk-parallel {display: flex;align-items: stretch;justify-content: center;background-color: white;position: relative;}#sk-container-id-2 div.sk-item::before, #sk-container-id-2 div.sk-parallel-item::before {content: \"\";position: absolute;border-left: 1px solid gray;box-sizing: border-box;top: 0;bottom: 0;left: 50%;z-index: -1;}#sk-container-id-2 div.sk-parallel-item {display: flex;flex-direction: column;z-index: 1;position: relative;background-color: white;}#sk-container-id-2 div.sk-parallel-item:first-child::after {align-self: flex-end;width: 50%;}#sk-container-id-2 div.sk-parallel-item:last-child::after {align-self: flex-start;width: 50%;}#sk-container-id-2 div.sk-parallel-item:only-child::after {width: 0;}#sk-container-id-2 div.sk-dashed-wrapped {border: 1px dashed gray;margin: 0 0.4em 0.5em 0.4em;box-sizing: border-box;padding-bottom: 0.4em;background-color: white;}#sk-container-id-2 div.sk-label label {font-family: monospace;font-weight: bold;display: inline-block;line-height: 1.2em;}#sk-container-id-2 div.sk-label-container {text-align: center;}#sk-container-id-2 div.sk-container {/* jupyter's `normalize.less` sets `[hidden] { display: none; }` but bootstrap.min.css set `[hidden] { display: none !important; }` so we also need the `!important` here to be able to override the default hidden behavior on the sphinx rendered scikit-learn.org. See: https://github.com/scikit-learn/scikit-learn/issues/21755 */display: inline-block !important;position: relative;}#sk-container-id-2 div.sk-text-repr-fallback {display: none;}</style><div id=\"sk-container-id-2\" class=\"sk-top-container\"><div class=\"sk-text-repr-fallback\"><pre>Pipeline(steps=[(&#x27;pca&#x27;, PCA(n_components=3)),\n",
       "                (&#x27;svc&#x27;, SVC(max_iter=500, random_state=29, tol=0.1))])</pre><b>In a Jupyter environment, please rerun this cell to show the HTML representation or trust the notebook. <br />On GitHub, the HTML representation is unable to render, please try loading this page with nbviewer.org.</b></div><div class=\"sk-container\" hidden><div class=\"sk-item sk-dashed-wrapped\"><div class=\"sk-label-container\"><div class=\"sk-label sk-toggleable\"><input class=\"sk-toggleable__control sk-hidden--visually\" id=\"sk-estimator-id-2\" type=\"checkbox\" ><label for=\"sk-estimator-id-2\" class=\"sk-toggleable__label sk-toggleable__label-arrow\">Pipeline</label><div class=\"sk-toggleable__content\"><pre>Pipeline(steps=[(&#x27;pca&#x27;, PCA(n_components=3)),\n",
       "                (&#x27;svc&#x27;, SVC(max_iter=500, random_state=29, tol=0.1))])</pre></div></div></div><div class=\"sk-serial\"><div class=\"sk-item\"><div class=\"sk-estimator sk-toggleable\"><input class=\"sk-toggleable__control sk-hidden--visually\" id=\"sk-estimator-id-3\" type=\"checkbox\" ><label for=\"sk-estimator-id-3\" class=\"sk-toggleable__label sk-toggleable__label-arrow\">PCA</label><div class=\"sk-toggleable__content\"><pre>PCA(n_components=3)</pre></div></div></div><div class=\"sk-item\"><div class=\"sk-estimator sk-toggleable\"><input class=\"sk-toggleable__control sk-hidden--visually\" id=\"sk-estimator-id-4\" type=\"checkbox\" ><label for=\"sk-estimator-id-4\" class=\"sk-toggleable__label sk-toggleable__label-arrow\">SVC</label><div class=\"sk-toggleable__content\"><pre>SVC(max_iter=500, random_state=29, tol=0.1)</pre></div></div></div></div></div></div></div>"
      ],
      "text/plain": [
       "Pipeline(steps=[('pca', PCA(n_components=3)),\n",
       "                ('svc', SVC(max_iter=500, random_state=29, tol=0.1))])"
      ]
     },
     "execution_count": 8,
     "metadata": {},
     "output_type": "execute_result"
    }
   ],
   "source": [
    "from sklearn.decomposition import PCA\n",
    "from sklearn.svm import SVC\n",
    "from sklearn.pipeline import Pipeline\n",
    "\n",
    "MNIST_pca = PCA(n_components=3)\n",
    "MNIST_model = SVC(random_state = 29, max_iter=500, tol=0.1)\n",
    "\n",
    "myPipe = Pipeline([\n",
    "    ('pca', MNIST_pca),\n",
    "    ('svc', MNIST_model)\n",
    "])\n",
    "\n",
    "print(myPipe)\n",
    "myPipe.fit(X_train, y_train)\n",
    "\n"
   ]
  },
  {
   "cell_type": "code",
   "execution_count": 9,
   "id": "f6dda05c-df04-4cb3-abe3-cedf07ccd533",
   "metadata": {},
   "outputs": [
    {
     "name": "stdout",
     "output_type": "stream",
     "text": [
      "[[  0   0  42   0   0]\n",
      " [  0 392 116   0   0]\n",
      " [  0   0 517   0   0]\n",
      " [  0  19   3   0   0]\n",
      " [  0   0  79   0   0]]\n",
      "Accuracy is  0.7782534246575342\n",
      "Precision is  0.717128119310482\n",
      "Sensitivity is  0.7782534246575342\n",
      "F1 is  0.7302922718453245\n",
      "[[  0   0  11   0   0]\n",
      " [  0 108  25   0   0]\n",
      " [  0   0 123   0   0]\n",
      " [  0   4   0   0   0]\n",
      " [  0   0  22   0   0]]\n",
      "Accuracy is  0.78839590443686\n",
      "Precision is  0.7229885165840138\n",
      "Sensitivity is  0.78839590443686\n",
      "F1 is  0.7398977392286177\n"
     ]
    },
    {
     "name": "stderr",
     "output_type": "stream",
     "text": [
      "C:\\Users\\s553982\\AppData\\Local\\anaconda3\\Lib\\site-packages\\sklearn\\metrics\\_classification.py:1469: UndefinedMetricWarning: Precision is ill-defined and being set to 0.0 in labels with no predicted samples. Use `zero_division` parameter to control this behavior.\n",
      "  _warn_prf(average, modifier, msg_start, len(result))\n",
      "C:\\Users\\s553982\\AppData\\Local\\anaconda3\\Lib\\site-packages\\sklearn\\metrics\\_classification.py:1469: UndefinedMetricWarning: Precision is ill-defined and being set to 0.0 in labels with no predicted samples. Use `zero_division` parameter to control this behavior.\n",
      "  _warn_prf(average, modifier, msg_start, len(result))\n"
     ]
    }
   ],
   "source": [
    "from sklearn.metrics import confusion_matrix\n",
    "y_predicted = myPipe.predict(X_train)\n",
    "matrix = confusion_matrix(y_train, y_predicted)\n",
    "print(matrix)\n",
    "\n",
    "from sklearn.metrics import accuracy_score, precision_score, recall_score, f1_score\n",
    "print (\"Accuracy is \", accuracy_score(y_train, y_predicted))\n",
    "\n",
    "# We have to specify how to combine for the multiclassifications\n",
    "print (\"Precision is \", precision_score(y_train, y_predicted, average=\"weighted\"))\n",
    "print (\"Sensitivity is \", recall_score(y_train, y_predicted, average=\"weighted\"))\n",
    "print (\"F1 is \", f1_score(y_train, y_predicted, average=\"weighted\"))\n",
    "\n",
    "y_predicted = myPipe.predict(X_test)\n",
    "matrix = confusion_matrix(y_test, y_predicted)\n",
    "print(matrix)\n",
    "print (\"Accuracy is \", accuracy_score(y_test, y_predicted))\n",
    "\n",
    "# We have to specify how to combine for the multiclassifications\n",
    "print (\"Precision is \", precision_score(y_test, y_predicted, average=\"weighted\"))\n",
    "print (\"Sensitivity is \", recall_score(y_test, y_predicted, average=\"weighted\"))\n",
    "print (\"F1 is \", f1_score(y_test, y_predicted, average=\"weighted\"))\n",
    "\n"
   ]
  },
  {
   "cell_type": "markdown",
   "id": "f9f2ed16-d1d3-45eb-9f45-7f1dda167581",
   "metadata": {},
   "source": [
    "This model is the best one so far with an accuracy of .788. It still struggles to predict categories 1 3 and 4 though as it seems to be a common trend among models on this data set. I also tried this model with min_temp but the differences were insignificant. however, by adding it, the model will very rarely predict a snow day while it categorizes most snow days as sunny days."
   ]
  },
  {
   "cell_type": "code",
   "execution_count": 10,
   "id": "5cc4f727-9fd9-4801-b2a8-0ab19205b3c7",
   "metadata": {},
   "outputs": [
    {
     "name": "stderr",
     "output_type": "stream",
     "text": [
      "C:\\Users\\s553982\\AppData\\Local\\anaconda3\\Lib\\site-packages\\sklearn\\neural_network\\_multilayer_perceptron.py:1102: DataConversionWarning: A column-vector y was passed when a 1d array was expected. Please change the shape of y to (n_samples, ), for example using ravel().\n",
      "  y = column_or_1d(y, warn=True)\n"
     ]
    },
    {
     "data": {
      "text/html": [
       "<style>#sk-container-id-3 {color: black;}#sk-container-id-3 pre{padding: 0;}#sk-container-id-3 div.sk-toggleable {background-color: white;}#sk-container-id-3 label.sk-toggleable__label {cursor: pointer;display: block;width: 100%;margin-bottom: 0;padding: 0.3em;box-sizing: border-box;text-align: center;}#sk-container-id-3 label.sk-toggleable__label-arrow:before {content: \"▸\";float: left;margin-right: 0.25em;color: #696969;}#sk-container-id-3 label.sk-toggleable__label-arrow:hover:before {color: black;}#sk-container-id-3 div.sk-estimator:hover label.sk-toggleable__label-arrow:before {color: black;}#sk-container-id-3 div.sk-toggleable__content {max-height: 0;max-width: 0;overflow: hidden;text-align: left;background-color: #f0f8ff;}#sk-container-id-3 div.sk-toggleable__content pre {margin: 0.2em;color: black;border-radius: 0.25em;background-color: #f0f8ff;}#sk-container-id-3 input.sk-toggleable__control:checked~div.sk-toggleable__content {max-height: 200px;max-width: 100%;overflow: auto;}#sk-container-id-3 input.sk-toggleable__control:checked~label.sk-toggleable__label-arrow:before {content: \"▾\";}#sk-container-id-3 div.sk-estimator input.sk-toggleable__control:checked~label.sk-toggleable__label {background-color: #d4ebff;}#sk-container-id-3 div.sk-label input.sk-toggleable__control:checked~label.sk-toggleable__label {background-color: #d4ebff;}#sk-container-id-3 input.sk-hidden--visually {border: 0;clip: rect(1px 1px 1px 1px);clip: rect(1px, 1px, 1px, 1px);height: 1px;margin: -1px;overflow: hidden;padding: 0;position: absolute;width: 1px;}#sk-container-id-3 div.sk-estimator {font-family: monospace;background-color: #f0f8ff;border: 1px dotted black;border-radius: 0.25em;box-sizing: border-box;margin-bottom: 0.5em;}#sk-container-id-3 div.sk-estimator:hover {background-color: #d4ebff;}#sk-container-id-3 div.sk-parallel-item::after {content: \"\";width: 100%;border-bottom: 1px solid gray;flex-grow: 1;}#sk-container-id-3 div.sk-label:hover label.sk-toggleable__label {background-color: #d4ebff;}#sk-container-id-3 div.sk-serial::before {content: \"\";position: absolute;border-left: 1px solid gray;box-sizing: border-box;top: 0;bottom: 0;left: 50%;z-index: 0;}#sk-container-id-3 div.sk-serial {display: flex;flex-direction: column;align-items: center;background-color: white;padding-right: 0.2em;padding-left: 0.2em;position: relative;}#sk-container-id-3 div.sk-item {position: relative;z-index: 1;}#sk-container-id-3 div.sk-parallel {display: flex;align-items: stretch;justify-content: center;background-color: white;position: relative;}#sk-container-id-3 div.sk-item::before, #sk-container-id-3 div.sk-parallel-item::before {content: \"\";position: absolute;border-left: 1px solid gray;box-sizing: border-box;top: 0;bottom: 0;left: 50%;z-index: -1;}#sk-container-id-3 div.sk-parallel-item {display: flex;flex-direction: column;z-index: 1;position: relative;background-color: white;}#sk-container-id-3 div.sk-parallel-item:first-child::after {align-self: flex-end;width: 50%;}#sk-container-id-3 div.sk-parallel-item:last-child::after {align-self: flex-start;width: 50%;}#sk-container-id-3 div.sk-parallel-item:only-child::after {width: 0;}#sk-container-id-3 div.sk-dashed-wrapped {border: 1px dashed gray;margin: 0 0.4em 0.5em 0.4em;box-sizing: border-box;padding-bottom: 0.4em;background-color: white;}#sk-container-id-3 div.sk-label label {font-family: monospace;font-weight: bold;display: inline-block;line-height: 1.2em;}#sk-container-id-3 div.sk-label-container {text-align: center;}#sk-container-id-3 div.sk-container {/* jupyter's `normalize.less` sets `[hidden] { display: none; }` but bootstrap.min.css set `[hidden] { display: none !important; }` so we also need the `!important` here to be able to override the default hidden behavior on the sphinx rendered scikit-learn.org. See: https://github.com/scikit-learn/scikit-learn/issues/21755 */display: inline-block !important;position: relative;}#sk-container-id-3 div.sk-text-repr-fallback {display: none;}</style><div id=\"sk-container-id-3\" class=\"sk-top-container\"><div class=\"sk-text-repr-fallback\"><pre>MLPClassifier(activation=&#x27;logistic&#x27;, alpha=1e-05, hidden_layer_sizes=(200, 200),\n",
       "              max_iter=500, random_state=1)</pre><b>In a Jupyter environment, please rerun this cell to show the HTML representation or trust the notebook. <br />On GitHub, the HTML representation is unable to render, please try loading this page with nbviewer.org.</b></div><div class=\"sk-container\" hidden><div class=\"sk-item\"><div class=\"sk-estimator sk-toggleable\"><input class=\"sk-toggleable__control sk-hidden--visually\" id=\"sk-estimator-id-5\" type=\"checkbox\" checked><label for=\"sk-estimator-id-5\" class=\"sk-toggleable__label sk-toggleable__label-arrow\">MLPClassifier</label><div class=\"sk-toggleable__content\"><pre>MLPClassifier(activation=&#x27;logistic&#x27;, alpha=1e-05, hidden_layer_sizes=(200, 200),\n",
       "              max_iter=500, random_state=1)</pre></div></div></div></div></div>"
      ],
      "text/plain": [
       "MLPClassifier(activation='logistic', alpha=1e-05, hidden_layer_sizes=(200, 200),\n",
       "              max_iter=500, random_state=1)"
      ]
     },
     "execution_count": 10,
     "metadata": {},
     "output_type": "execute_result"
    }
   ],
   "source": [
    "from sklearn.neural_network import MLPClassifier\n",
    "model = MLPClassifier(\n",
    "    solver='adam', \n",
    "    activation='logistic', \n",
    "    alpha=1e-5, \n",
    "    hidden_layer_sizes=(200,200),\n",
    "    random_state=1,max_iter=500)\n",
    "\n",
    "use = [\"temp_max\",\"temp_min\",\"wind\", \"precipitation\"]\n",
    "find = [\"weather\"]\n",
    "X_train = train_set[use]\n",
    "y_train = train_set[find]\n",
    "\n",
    "X_test = test_set[use]\n",
    "y_test = test_set[find]\n",
    "\n",
    "model.fit(X_train, y_train)\n",
    "\n"
   ]
  },
  {
   "cell_type": "code",
   "execution_count": 11,
   "id": "ee08f875-25dc-4313-aab4-8e4f7b9a6f8e",
   "metadata": {},
   "outputs": [
    {
     "name": "stdout",
     "output_type": "stream",
     "text": [
      "[[  0   0  42   0   0]\n",
      " [  0 472  33   3   0]\n",
      " [  0   1 516   0   0]\n",
      " [  0   8   0  14   0]\n",
      " [  0   0  79   0   0]]\n",
      "Accuracy is  0.8578767123287672\n",
      "Precision is  0.7832017240862419\n",
      "Sensitivity is  0.8578767123287672\n",
      "F1 is  0.8135017844349371\n",
      "\n",
      "[[  0   0  11   0   0]\n",
      " [  0 121  11   1   0]\n",
      " [  0   0 123   0   0]\n",
      " [  0   1   0   3   0]\n",
      " [  0   0  22   0   0]]\n",
      "Accuracy is  0.8430034129692833\n",
      "Precision is  0.7696336192383318\n",
      "Sensitivity is  0.8430034129692833\n",
      "F1 is  0.7971247060669625\n"
     ]
    },
    {
     "name": "stderr",
     "output_type": "stream",
     "text": [
      "C:\\Users\\s553982\\AppData\\Local\\anaconda3\\Lib\\site-packages\\sklearn\\metrics\\_classification.py:1469: UndefinedMetricWarning: Precision is ill-defined and being set to 0.0 in labels with no predicted samples. Use `zero_division` parameter to control this behavior.\n",
      "  _warn_prf(average, modifier, msg_start, len(result))\n",
      "C:\\Users\\s553982\\AppData\\Local\\anaconda3\\Lib\\site-packages\\sklearn\\metrics\\_classification.py:1469: UndefinedMetricWarning: Precision is ill-defined and being set to 0.0 in labels with no predicted samples. Use `zero_division` parameter to control this behavior.\n",
      "  _warn_prf(average, modifier, msg_start, len(result))\n"
     ]
    }
   ],
   "source": [
    "y_predicted = model.predict(X_train)\n",
    "matrix = confusion_matrix(y_train, y_predicted)\n",
    "print(matrix)\n",
    "print (\"Accuracy is \", accuracy_score(y_train, y_predicted))\n",
    "print (\"Precision is \", precision_score(y_train, y_predicted, average=\"weighted\"))\n",
    "print (\"Sensitivity is \", recall_score(y_train, y_predicted, average=\"weighted\"))\n",
    "print (\"F1 is \", f1_score(y_train, y_predicted, average=\"weighted\"))\n",
    "\n",
    "print()\n",
    "\n",
    "y_predicted = model.predict(X_test)\n",
    "matrix = confusion_matrix(y_test, y_predicted)\n",
    "print(matrix)\n",
    "print (\"Accuracy is \", accuracy_score(y_test, y_predicted))\n",
    "print (\"Precision is \", precision_score(y_test, y_predicted, average=\"weighted\"))\n",
    "print (\"Sensitivity is \", recall_score(y_test, y_predicted, average=\"weighted\"))\n",
    "print (\"F1 is \", f1_score(y_test, y_predicted, average=\"weighted\"))"
   ]
  },
  {
   "cell_type": "markdown",
   "id": "29c4e884-ca39-4f4b-84ea-37c2567b2c68",
   "metadata": {},
   "source": [
    "I played around with this a bit and by adding in min temp this model was able to perform better at predicting snow than it was before. All of the models prior to this and this one have all had trouble predicting the fog and drizzle categories. "
   ]
  },
  {
   "cell_type": "markdown",
   "id": "39a38a91-b196-40a9-893c-be086e51f36f",
   "metadata": {},
   "source": [
    "While this model does technicly have a lower accuracy scores than some of the other models, this model was able to predict and additional cattagorei, Snow. With and without min_temp the other catagories were unable to pridict Snow. "
   ]
  },
  {
   "cell_type": "markdown",
   "id": "a60f22d7-86f7-4788-bc03-41c613eec9a8",
   "metadata": {},
   "source": [
    "I think this is more of an issue with the data because what differentiates rain from drizzle and fog often has to do with the differences between ground temp and wind. While we do have wind the ground temp is not included in the data set and might make it impossible for a model to predict fog.\n",
    "\n"
   ]
  },
  {
   "cell_type": "code",
   "execution_count": 12,
   "id": "f0fba2c6-0cc8-4b0a-9f76-4d48e626582c",
   "metadata": {},
   "outputs": [
    {
     "name": "stdout",
     "output_type": "stream",
     "text": [
      "Indices of outliers: (array([  20,   28,   48,   74,   88,  120,  300,  303,  323,  327,  334,\n",
      "        351,  374,  418,  444,  462,  613,  636,  671,  676,  687,  700,\n",
      "        706,  741,  742,  777,  777,  794,  797,  805,  853, 1025, 1033,\n",
      "       1045, 1046, 1062, 1112, 1131, 1133, 1169, 1321, 1336, 1378, 1399,\n",
      "       1400, 1412, 1413, 1416, 1416, 1436, 1437, 1450, 1452], dtype=int64), array([3, 2, 3, 2, 2, 3, 2, 2, 2, 2, 2, 3, 2, 3, 3, 2, 2, 2, 3, 2, 2, 3,\n",
      "       1, 3, 3, 2, 3, 2, 2, 2, 2, 2, 2, 3, 3, 2, 2, 2, 2, 2, 2, 2, 2, 2,\n",
      "       2, 2, 2, 2, 3, 2, 2, 2, 3], dtype=int64))\n"
     ]
    }
   ],
   "source": [
    "import numpy as np\n",
    "\n",
    "X = weather[[\"temp_max\",\"temp_min\",\"precipitation\",\"wind\"]]\n",
    "Y = weather[\"weather\"]\n",
    "\n",
    "z_scores = np.abs((X - X.mean()) / X.std())\n",
    "threshold = 3\n",
    "outliers = np.where(z_scores > threshold)\n",
    "print(\"Indices of outliers:\", outliers)\n"
   ]
  },
  {
   "cell_type": "markdown",
   "id": "9fae9e92-e960-4d1b-bab3-2d017267c443",
   "metadata": {},
   "source": [
    "Anomalous data:\n",
    "While their are a few outliers most of them are in the precipitation catagorie. I would assume that these ones are still being predicted corectly though due to them being rain. The other catagorie that has outliers is wind. This could possible be anomalous and have an effect on the effectiveness of the model."
   ]
  },
  {
   "cell_type": "markdown",
   "id": "8cc14c3d-e5f5-4bd3-a52d-b96b73deeb38",
   "metadata": {},
   "source": [
    "EVERY THING PAST THIS WAS ADDED ON 4/18/2024. NOTHING ELSE WAS CHANGED"
   ]
  },
  {
   "cell_type": "code",
   "execution_count": 13,
   "id": "bb78be8f-71fb-4609-94ae-d9c2ce10757d",
   "metadata": {},
   "outputs": [
    {
     "name": "stderr",
     "output_type": "stream",
     "text": [
      "C:\\Users\\s553982\\AppData\\Local\\anaconda3\\Lib\\site-packages\\sklearn\\neural_network\\_multilayer_perceptron.py:1102: DataConversionWarning: A column-vector y was passed when a 1d array was expected. Please change the shape of y to (n_samples, ), for example using ravel().\n",
      "  y = column_or_1d(y, warn=True)\n"
     ]
    },
    {
     "data": {
      "text/html": [
       "<style>#sk-container-id-4 {color: black;}#sk-container-id-4 pre{padding: 0;}#sk-container-id-4 div.sk-toggleable {background-color: white;}#sk-container-id-4 label.sk-toggleable__label {cursor: pointer;display: block;width: 100%;margin-bottom: 0;padding: 0.3em;box-sizing: border-box;text-align: center;}#sk-container-id-4 label.sk-toggleable__label-arrow:before {content: \"▸\";float: left;margin-right: 0.25em;color: #696969;}#sk-container-id-4 label.sk-toggleable__label-arrow:hover:before {color: black;}#sk-container-id-4 div.sk-estimator:hover label.sk-toggleable__label-arrow:before {color: black;}#sk-container-id-4 div.sk-toggleable__content {max-height: 0;max-width: 0;overflow: hidden;text-align: left;background-color: #f0f8ff;}#sk-container-id-4 div.sk-toggleable__content pre {margin: 0.2em;color: black;border-radius: 0.25em;background-color: #f0f8ff;}#sk-container-id-4 input.sk-toggleable__control:checked~div.sk-toggleable__content {max-height: 200px;max-width: 100%;overflow: auto;}#sk-container-id-4 input.sk-toggleable__control:checked~label.sk-toggleable__label-arrow:before {content: \"▾\";}#sk-container-id-4 div.sk-estimator input.sk-toggleable__control:checked~label.sk-toggleable__label {background-color: #d4ebff;}#sk-container-id-4 div.sk-label input.sk-toggleable__control:checked~label.sk-toggleable__label {background-color: #d4ebff;}#sk-container-id-4 input.sk-hidden--visually {border: 0;clip: rect(1px 1px 1px 1px);clip: rect(1px, 1px, 1px, 1px);height: 1px;margin: -1px;overflow: hidden;padding: 0;position: absolute;width: 1px;}#sk-container-id-4 div.sk-estimator {font-family: monospace;background-color: #f0f8ff;border: 1px dotted black;border-radius: 0.25em;box-sizing: border-box;margin-bottom: 0.5em;}#sk-container-id-4 div.sk-estimator:hover {background-color: #d4ebff;}#sk-container-id-4 div.sk-parallel-item::after {content: \"\";width: 100%;border-bottom: 1px solid gray;flex-grow: 1;}#sk-container-id-4 div.sk-label:hover label.sk-toggleable__label {background-color: #d4ebff;}#sk-container-id-4 div.sk-serial::before {content: \"\";position: absolute;border-left: 1px solid gray;box-sizing: border-box;top: 0;bottom: 0;left: 50%;z-index: 0;}#sk-container-id-4 div.sk-serial {display: flex;flex-direction: column;align-items: center;background-color: white;padding-right: 0.2em;padding-left: 0.2em;position: relative;}#sk-container-id-4 div.sk-item {position: relative;z-index: 1;}#sk-container-id-4 div.sk-parallel {display: flex;align-items: stretch;justify-content: center;background-color: white;position: relative;}#sk-container-id-4 div.sk-item::before, #sk-container-id-4 div.sk-parallel-item::before {content: \"\";position: absolute;border-left: 1px solid gray;box-sizing: border-box;top: 0;bottom: 0;left: 50%;z-index: -1;}#sk-container-id-4 div.sk-parallel-item {display: flex;flex-direction: column;z-index: 1;position: relative;background-color: white;}#sk-container-id-4 div.sk-parallel-item:first-child::after {align-self: flex-end;width: 50%;}#sk-container-id-4 div.sk-parallel-item:last-child::after {align-self: flex-start;width: 50%;}#sk-container-id-4 div.sk-parallel-item:only-child::after {width: 0;}#sk-container-id-4 div.sk-dashed-wrapped {border: 1px dashed gray;margin: 0 0.4em 0.5em 0.4em;box-sizing: border-box;padding-bottom: 0.4em;background-color: white;}#sk-container-id-4 div.sk-label label {font-family: monospace;font-weight: bold;display: inline-block;line-height: 1.2em;}#sk-container-id-4 div.sk-label-container {text-align: center;}#sk-container-id-4 div.sk-container {/* jupyter's `normalize.less` sets `[hidden] { display: none; }` but bootstrap.min.css set `[hidden] { display: none !important; }` so we also need the `!important` here to be able to override the default hidden behavior on the sphinx rendered scikit-learn.org. See: https://github.com/scikit-learn/scikit-learn/issues/21755 */display: inline-block !important;position: relative;}#sk-container-id-4 div.sk-text-repr-fallback {display: none;}</style><div id=\"sk-container-id-4\" class=\"sk-top-container\"><div class=\"sk-text-repr-fallback\"><pre>MLPClassifier(activation=&#x27;logistic&#x27;, alpha=1e-05, hidden_layer_sizes=(200, 200),\n",
       "              max_iter=500, random_state=1)</pre><b>In a Jupyter environment, please rerun this cell to show the HTML representation or trust the notebook. <br />On GitHub, the HTML representation is unable to render, please try loading this page with nbviewer.org.</b></div><div class=\"sk-container\" hidden><div class=\"sk-item\"><div class=\"sk-estimator sk-toggleable\"><input class=\"sk-toggleable__control sk-hidden--visually\" id=\"sk-estimator-id-6\" type=\"checkbox\" checked><label for=\"sk-estimator-id-6\" class=\"sk-toggleable__label sk-toggleable__label-arrow\">MLPClassifier</label><div class=\"sk-toggleable__content\"><pre>MLPClassifier(activation=&#x27;logistic&#x27;, alpha=1e-05, hidden_layer_sizes=(200, 200),\n",
       "              max_iter=500, random_state=1)</pre></div></div></div></div></div>"
      ],
      "text/plain": [
       "MLPClassifier(activation='logistic', alpha=1e-05, hidden_layer_sizes=(200, 200),\n",
       "              max_iter=500, random_state=1)"
      ]
     },
     "execution_count": 13,
     "metadata": {},
     "output_type": "execute_result"
    }
   ],
   "source": [
    "from sklearn.neural_network import MLPClassifier\n",
    "model = MLPClassifier(\n",
    "    solver='adam', \n",
    "    activation='logistic', \n",
    "    alpha=1e-5, \n",
    "    hidden_layer_sizes=(200,200),\n",
    "    random_state=1,max_iter=500)\n",
    "\n",
    "train_set = train_set[(train_set['weather'] != 0) & (train_set['weather'] != 4)]\n",
    "test_set = test_set[(test_set['weather'] != 0) & (test_set['weather'] != 4)]\n",
    "\n",
    "use = [\"temp_max\",\"temp_min\",\"wind\", \"precipitation\"]\n",
    "find = [\"weather\"]\n",
    "X_train = train_set[use]\n",
    "y_train = train_set[find]\n",
    "\n",
    "X_test = test_set[use]\n",
    "y_test = test_set[find]\n",
    "\n",
    "model.fit(X_train, y_train)\n",
    "\n"
   ]
  },
  {
   "cell_type": "code",
   "execution_count": 14,
   "id": "3799fb5c-6ba9-42ce-99ea-864657bbb6b9",
   "metadata": {},
   "outputs": [
    {
     "name": "stdout",
     "output_type": "stream",
     "text": [
      "[[469  33   6]\n",
      " [  0 517   0]\n",
      " [  8   0  14]]\n",
      "Accuracy is  0.9551098376313276\n",
      "Precision is  0.9559313121847587\n",
      "Sensitivity is  0.9551098376313276\n",
      "F1 is  0.9545724756794534\n",
      "\n",
      "[[120  11   2]\n",
      " [  0 123   0]\n",
      " [  1   0   3]]\n",
      "Accuracy is  0.9461538461538461\n",
      "Precision is  0.9507838904650302\n",
      "Sensitivity is  0.9461538461538461\n",
      "F1 is  0.9464283329444639\n"
     ]
    }
   ],
   "source": [
    "y_predicted = model.predict(X_train)\n",
    "matrix = confusion_matrix(y_train, y_predicted)\n",
    "print(matrix)\n",
    "print (\"Accuracy is \", accuracy_score(y_train, y_predicted))\n",
    "print (\"Precision is \", precision_score(y_train, y_predicted, average=\"weighted\"))\n",
    "print (\"Sensitivity is \", recall_score(y_train, y_predicted, average=\"weighted\"))\n",
    "print (\"F1 is \", f1_score(y_train, y_predicted, average=\"weighted\"))\n",
    "\n",
    "print()\n",
    "\n",
    "y_predicted = model.predict(X_test)\n",
    "matrix = confusion_matrix(y_test, y_predicted)\n",
    "print(matrix)\n",
    "print (\"Accuracy is \", accuracy_score(y_test, y_predicted))\n",
    "print (\"Precision is \", precision_score(y_test, y_predicted, average=\"weighted\"))\n",
    "print (\"Sensitivity is \", recall_score(y_test, y_predicted, average=\"weighted\"))\n",
    "print (\"F1 is \", f1_score(y_test, y_predicted, average=\"weighted\"))"
   ]
  }
 ],
 "metadata": {
  "kernelspec": {
   "display_name": "Python 3 (ipykernel)",
   "language": "python",
   "name": "python3"
  },
  "language_info": {
   "codemirror_mode": {
    "name": "ipython",
    "version": 3
   },
   "file_extension": ".py",
   "mimetype": "text/x-python",
   "name": "python",
   "nbconvert_exporter": "python",
   "pygments_lexer": "ipython3",
   "version": "3.11.5"
  }
 },
 "nbformat": 4,
 "nbformat_minor": 5
}
