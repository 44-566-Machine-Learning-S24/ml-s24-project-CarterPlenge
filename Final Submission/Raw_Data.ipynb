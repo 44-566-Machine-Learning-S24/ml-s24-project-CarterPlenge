{
 "cells": [
  {
   "cell_type": "markdown",
   "id": "fa550e2e-29a7-4c36-a486-db5a49e94e7b",
   "metadata": {},
   "source": [
    "# RAW_DATA\n",
    "This notebook was made to be a polished-up version of all my findings regarding Raw data, catered toward the final project submission. "
   ]
  },
  {
   "cell_type": "code",
   "execution_count": null,
   "id": "3105b721-2ed1-481c-82f2-351a9b5c3d6a",
   "metadata": {},
   "outputs": [],
   "source": []
  }
 ],
 "metadata": {
  "kernelspec": {
   "display_name": "Python 3 (ipykernel)",
   "language": "python",
   "name": "python3"
  },
  "language_info": {
   "codemirror_mode": {
    "name": "ipython",
    "version": 3
   },
   "file_extension": ".py",
   "mimetype": "text/x-python",
   "name": "python",
   "nbconvert_exporter": "python",
   "pygments_lexer": "ipython3",
   "version": "3.11.5"
  }
 },
 "nbformat": 4,
 "nbformat_minor": 5
}
