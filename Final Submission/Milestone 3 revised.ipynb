{
 "cells": [
  {
   "cell_type": "markdown",
   "id": "d9cac317-794a-4235-87f0-4cf43d878fe6",
   "metadata": {},
   "source": [
    "# Final Analysis\n",
    "\n",
    "### Pulling in the data"
   ]
  },
  {
   "cell_type": "code",
   "execution_count": 1,
   "id": "d0efb0d1-f3ef-4bda-ae1e-ae2f5fd712e6",
   "metadata": {},
   "outputs": [],
   "source": [
    "import pandas as pd\n",
    "from sklearn.metrics import accuracy_score, precision_score, recall_score, f1_score, confusion_matrix\n",
    "\n",
    "#import the csv files\n",
    "weather = pd.read_csv(\"../seattle-weather.csv\")\n",
    "\n",
    "weather[\"date\"] = pd.to_datetime(weather[\"date\"])\n",
    "\n",
    "#convert weather field into numerical values\n",
    "weather_mapping = {'drizzle': 0, 'rain': 1, 'sun': 2, 'snow': 3, 'fog': 4}\n",
    "weather[\"weather\"] = weather[\"weather\"].map(weather_mapping)\n",
    "\n",
    "#adding previous days temp\n",
    "weather['prev_temp_min'] = weather['temp_min'].shift(1)\n",
    "weather['prev_temp_max'] = weather['temp_max'].shift(1)\n",
    "\n",
    "\n",
    "\n",
    "weather = weather.drop(columns=[\"date\"])\n",
    "weather = weather.dropna()\n",
    "\n",
    "X = weather[[\"temp_max\",\"temp_min\",\"precipitation\",\"wind\",\"prev_temp_min\"]]\n",
    "X = weather[[\"temp_max\",\"precipitation\",\"wind\",\"prev_temp_max\"]]\n",
    "\n",
    "Y = weather[\"weather\"]"
   ]
  },
  {
   "cell_type": "markdown",
   "id": "9c34dcef-bb93-4e58-82b6-bea7d965db9d",
   "metadata": {},
   "source": [
    "### Spliting into training data"
   ]
  },
  {
   "cell_type": "code",
   "execution_count": 2,
   "id": "83c9b22a-b3ca-4bde-b7aa-ac4443fe5c87",
   "metadata": {},
   "outputs": [],
   "source": [
    "from sklearn.model_selection import train_test_split\n",
    "from sklearn.linear_model import ElasticNet\n",
    "train_set, test_set = train_test_split(weather,test_size=0.2,random_state=123)\n",
    "reg = ElasticNet(alpha = 1.0, l1_ratio=0.5)\n",
    "\n",
    "use = [\"temp_max\",\"temp_min\",\"precipitation\",\"wind\",\"prev_temp_min\",\"prev_temp_max\"]\n",
    "#use = [\"temp_max\",\"wind\", \"precipitation\"]\n",
    "find = [\"weather\"]\n",
    "X_train = train_set[use]\n",
    "y_train = train_set[find]\n",
    "\n",
    "X_test = test_set[use]\n",
    "y_test = test_set[find]\n",
    "\n"
   ]
  },
  {
   "cell_type": "markdown",
   "id": "3da9f7f9-2885-4d6d-8f9c-6abaf5c57360",
   "metadata": {},
   "source": [
    "### Decision Tree Classifier"
   ]
  },
  {
   "cell_type": "code",
   "execution_count": 3,
   "id": "17c4ddf0-edf2-4861-935a-ad86a8d0ddc8",
   "metadata": {},
   "outputs": [
    {
     "name": "stdout",
     "output_type": "stream",
     "text": [
      "Training set\n",
      "[[ 41   0   0   0   0]\n",
      " [  0 519   0   0   0]\n",
      " [  0   0 506   0   0]\n",
      " [  0   0   0  19   0]\n",
      " [  0   0   0   0  83]]\n",
      "Training set\n",
      "[[  1   0  10   0   0]\n",
      " [  0 110   6   5   1]\n",
      " [  4   5 111   0  14]\n",
      " [  0   2   0   5   0]\n",
      " [  3   1  11   0   3]]\n",
      "Accuracy is  0.7876712328767124\n",
      "Precision is  0.7855699392293637\n",
      "Sensitivity is  0.7876712328767124\n",
      "F1 is  0.7858785006432277\n"
     ]
    }
   ],
   "source": [
    "from sklearn.tree import DecisionTreeClassifier\n",
    "tree_classifier = DecisionTreeClassifier()\n",
    "tree_classifier.fit(X_train,y_train)\n",
    "\n",
    "Y_pred_train = tree_classifier.predict(X_train)\n",
    "\n",
    "cm = confusion_matrix(y_train, Y_pred_train)\n",
    "print(\"Training set\")\n",
    "print(cm)\n",
    "\n",
    "Y_pred_test = tree_classifier.predict(X_test)\n",
    "cm = confusion_matrix(y_test, Y_pred_test)\n",
    "\n",
    "print(\"Training set\")\n",
    "print(cm)\n",
    "print (\"Accuracy is \", accuracy_score(y_test, Y_pred_test))\n",
    "print (\"Precision is \", precision_score(y_test, Y_pred_test, average=\"weighted\"))\n",
    "print (\"Sensitivity is \", recall_score(y_test, Y_pred_test, average=\"weighted\"))\n",
    "print (\"F1 is \", f1_score(y_test, Y_pred_test, average=\"weighted\"))"
   ]
  },
  {
   "cell_type": "code",
   "execution_count": 4,
   "id": "2cb67da3-3472-467c-ade2-6e38bef2f5e3",
   "metadata": {},
   "outputs": [
    {
     "data": {
      "image/png": "[encoded data removed]",
      "text/plain": [
       "<Figure size 640x480 with 1 Axes>"
      ]
     },
     "metadata": {},
     "output_type": "display_data"
    }
   ],
   "source": [
    "import numpy as np\n",
    "from sklearn.decomposition import PCA\n",
    "pca = PCA()\n",
    "pca.fit(X)\n",
    "cumulative_sums = np.cumsum(pca.explained_variance_ratio_)\n",
    "\n",
    "import matplotlib.pyplot as plt\n",
    "d_values = [i+1 for i in range(0,len(cumulative_sums))]\n",
    "plt.plot(d_values, cumulative_sums)\n",
    "plt.show()\n",
    "\n"
   ]
  },
  {
   "cell_type": "markdown",
   "id": "06a92433-b89c-4f5e-a970-b8a6d3fb3a64",
   "metadata": {},
   "source": [
    "This graph looks weird when compared to the one in the example you provided. That one took ~100 while this one took 2.\n"
   ]
  },
  {
   "cell_type": "code",
   "execution_count": 5,
   "id": "114844cc-9843-43eb-a11d-692e9fb7ee33",
   "metadata": {},
   "outputs": [
    {
     "name": "stdout",
     "output_type": "stream",
     "text": [
      "Pipeline(steps=[('pca', PCA(n_components=3)),\n",
      "                ('svc', SVC(max_iter=500, random_state=29, tol=0.1))])\n"
     ]
    },
    {
     "name": "stderr",
     "output_type": "stream",
     "text": [
      "C:\\Users\\s553982\\AppData\\Local\\anaconda3\\Lib\\site-packages\\sklearn\\utils\\validation.py:1184: DataConversionWarning: A column-vector y was passed when a 1d array was expected. Please change the shape of y to (n_samples, ), for example using ravel().\n",
      "  y = column_or_1d(y, warn=True)\n"
     ]
    },
    {
     "data": {
      "text/html": [
       "<style>#sk-container-id-1 {color: black;}#sk-container-id-1 pre{padding: 0;}#sk-container-id-1 div.sk-toggleable {background-color: white;}#sk-container-id-1 label.sk-toggleable__label {cursor: pointer;display: block;width: 100%;margin-bottom: 0;padding: 0.3em;box-sizing: border-box;text-align: center;}#sk-container-id-1 label.sk-toggleable__label-arrow:before {content: \"▸\";float: left;margin-right: 0.25em;color: #696969;}#sk-container-id-1 label.sk-toggleable__label-arrow:hover:before {color: black;}#sk-container-id-1 div.sk-estimator:hover label.sk-toggleable__label-arrow:before {color: black;}#sk-container-id-1 div.sk-toggleable__content {max-height: 0;max-width: 0;overflow: hidden;text-align: left;background-color: #f0f8ff;}#sk-container-id-1 div.sk-toggleable__content pre {margin: 0.2em;color: black;border-radius: 0.25em;background-color: #f0f8ff;}#sk-container-id-1 input.sk-toggleable__control:checked~div.sk-toggleable__content {max-height: 200px;max-width: 100%;overflow: auto;}#sk-container-id-1 input.sk-toggleable__control:checked~label.sk-toggleable__label-arrow:before {content: \"▾\";}#sk-container-id-1 div.sk-estimator input.sk-toggleable__control:checked~label.sk-toggleable__label {background-color: #d4ebff;}#sk-container-id-1 div.sk-label input.sk-toggleable__control:checked~label.sk-toggleable__label {background-color: #d4ebff;}#sk-container-id-1 input.sk-hidden--visually {border: 0;clip: rect(1px 1px 1px 1px);clip: rect(1px, 1px, 1px, 1px);height: 1px;margin: -1px;overflow: hidden;padding: 0;position: absolute;width: 1px;}#sk-container-id-1 div.sk-estimator {font-family: monospace;background-color: #f0f8ff;border: 1px dotted black;border-radius: 0.25em;box-sizing: border-box;margin-bottom: 0.5em;}#sk-container-id-1 div.sk-estimator:hover {background-color: #d4ebff;}#sk-container-id-1 div.sk-parallel-item::after {content: \"\";width: 100%;border-bottom: 1px solid gray;flex-grow: 1;}#sk-container-id-1 div.sk-label:hover label.sk-toggleable__label {background-color: #d4ebff;}#sk-container-id-1 div.sk-serial::before {content: \"\";position: absolute;border-left: 1px solid gray;box-sizing: border-box;top: 0;bottom: 0;left: 50%;z-index: 0;}#sk-container-id-1 div.sk-serial {display: flex;flex-direction: column;align-items: center;background-color: white;padding-right: 0.2em;padding-left: 0.2em;position: relative;}#sk-container-id-1 div.sk-item {position: relative;z-index: 1;}#sk-container-id-1 div.sk-parallel {display: flex;align-items: stretch;justify-content: center;background-color: white;position: relative;}#sk-container-id-1 div.sk-item::before, #sk-container-id-1 div.sk-parallel-item::before {content: \"\";position: absolute;border-left: 1px solid gray;box-sizing: border-box;top: 0;bottom: 0;left: 50%;z-index: -1;}#sk-container-id-1 div.sk-parallel-item {display: flex;flex-direction: column;z-index: 1;position: relative;background-color: white;}#sk-container-id-1 div.sk-parallel-item:first-child::after {align-self: flex-end;width: 50%;}#sk-container-id-1 div.sk-parallel-item:last-child::after {align-self: flex-start;width: 50%;}#sk-container-id-1 div.sk-parallel-item:only-child::after {width: 0;}#sk-container-id-1 div.sk-dashed-wrapped {border: 1px dashed gray;margin: 0 0.4em 0.5em 0.4em;box-sizing: border-box;padding-bottom: 0.4em;background-color: white;}#sk-container-id-1 div.sk-label label {font-family: monospace;font-weight: bold;display: inline-block;line-height: 1.2em;}#sk-container-id-1 div.sk-label-container {text-align: center;}#sk-container-id-1 div.sk-container {/* jupyter's `normalize.less` sets `[hidden] { display: none; }` but bootstrap.min.css set `[hidden] { display: none !important; }` so we also need the `!important` here to be able to override the default hidden behavior on the sphinx rendered scikit-learn.org. See: https://github.com/scikit-learn/scikit-learn/issues/21755 */display: inline-block !important;position: relative;}#sk-container-id-1 div.sk-text-repr-fallback {display: none;}</style><div id=\"sk-container-id-1\" class=\"sk-top-container\"><div class=\"sk-text-repr-fallback\"><pre>Pipeline(steps=[(&#x27;pca&#x27;, PCA(n_components=3)),\n",
       "                (&#x27;svc&#x27;, SVC(max_iter=500, random_state=29, tol=0.1))])</pre><b>In a Jupyter environment, please rerun this cell to show the HTML representation or trust the notebook. <br />On GitHub, the HTML representation is unable to render, please try loading this page with nbviewer.org.</b></div><div class=\"sk-container\" hidden><div class=\"sk-item sk-dashed-wrapped\"><div class=\"sk-label-container\"><div class=\"sk-label sk-toggleable\"><input class=\"sk-toggleable__control sk-hidden--visually\" id=\"sk-estimator-id-1\" type=\"checkbox\" ><label for=\"sk-estimator-id-1\" class=\"sk-toggleable__label sk-toggleable__label-arrow\">Pipeline</label><div class=\"sk-toggleable__content\"><pre>Pipeline(steps=[(&#x27;pca&#x27;, PCA(n_components=3)),\n",
       "                (&#x27;svc&#x27;, SVC(max_iter=500, random_state=29, tol=0.1))])</pre></div></div></div><div class=\"sk-serial\"><div class=\"sk-item\"><div class=\"sk-estimator sk-toggleable\"><input class=\"sk-toggleable__control sk-hidden--visually\" id=\"sk-estimator-id-2\" type=\"checkbox\" ><label for=\"sk-estimator-id-2\" class=\"sk-toggleable__label sk-toggleable__label-arrow\">PCA</label><div class=\"sk-toggleable__content\"><pre>PCA(n_components=3)</pre></div></div></div><div class=\"sk-item\"><div class=\"sk-estimator sk-toggleable\"><input class=\"sk-toggleable__control sk-hidden--visually\" id=\"sk-estimator-id-3\" type=\"checkbox\" ><label for=\"sk-estimator-id-3\" class=\"sk-toggleable__label sk-toggleable__label-arrow\">SVC</label><div class=\"sk-toggleable__content\"><pre>SVC(max_iter=500, random_state=29, tol=0.1)</pre></div></div></div></div></div></div></div>"
      ],
      "text/plain": [
       "Pipeline(steps=[('pca', PCA(n_components=3)),\n",
       "                ('svc', SVC(max_iter=500, random_state=29, tol=0.1))])"
      ]
     },
     "execution_count": 5,
     "metadata": {},
     "output_type": "execute_result"
    }
   ],
   "source": [
    "from sklearn.decomposition import PCA\n",
    "from sklearn.svm import SVC\n",
    "from sklearn.pipeline import Pipeline\n",
    "\n",
    "MNIST_pca = PCA(n_components=3)\n",
    "MNIST_model = SVC(random_state = 29, max_iter=500, tol=0.1)\n",
    "\n",
    "myPipe = Pipeline([\n",
    "    ('pca', MNIST_pca),\n",
    "    ('svc', MNIST_model)\n",
    "])\n",
    "\n",
    "print(myPipe)\n",
    "myPipe.fit(X_train, y_train)\n",
    "\n"
   ]
  },
  {
   "cell_type": "code",
   "execution_count": 6,
   "id": "f6dda05c-df04-4cb3-abe3-cedf07ccd533",
   "metadata": {},
   "outputs": [
    {
     "name": "stdout",
     "output_type": "stream",
     "text": [
      "[[  0   1  40   0   0]\n",
      " [  0 415 104   0   0]\n",
      " [  0  15 491   0   0]\n",
      " [  0  13   4   2   0]\n",
      " [  0   1  82   0   0]]\n",
      "Accuracy is  0.7773972602739726\n",
      "Precision is  0.7256819641712371\n",
      "Sensitivity is  0.7773972602739726\n",
      "F1 is  0.7323979873863876\n",
      "[[  0   0  11   0   0]\n",
      " [  0  86  36   0   0]\n",
      " [  0   3 131   0   0]\n",
      " [  0   6   0   1   0]\n",
      " [  0   1  17   0   0]]\n",
      "Accuracy is  0.7465753424657534\n",
      "Precision is  0.706548559887601\n",
      "Sensitivity is  0.7465753424657534\n",
      "F1 is  0.7010894758032632\n"
     ]
    },
    {
     "name": "stderr",
     "output_type": "stream",
     "text": [
      "C:\\Users\\s553982\\AppData\\Local\\anaconda3\\Lib\\site-packages\\sklearn\\metrics\\_classification.py:1469: UndefinedMetricWarning: Precision is ill-defined and being set to 0.0 in labels with no predicted samples. Use `zero_division` parameter to control this behavior.\n",
      "  _warn_prf(average, modifier, msg_start, len(result))\n",
      "C:\\Users\\s553982\\AppData\\Local\\anaconda3\\Lib\\site-packages\\sklearn\\metrics\\_classification.py:1469: UndefinedMetricWarning: Precision is ill-defined and being set to 0.0 in labels with no predicted samples. Use `zero_division` parameter to control this behavior.\n",
      "  _warn_prf(average, modifier, msg_start, len(result))\n"
     ]
    }
   ],
   "source": [
    "from sklearn.metrics import confusion_matrix\n",
    "y_predicted = myPipe.predict(X_train)\n",
    "matrix = confusion_matrix(y_train, y_predicted)\n",
    "print(matrix)\n",
    "\n",
    "from sklearn.metrics import accuracy_score, precision_score, recall_score, f1_score\n",
    "print (\"Accuracy is \", accuracy_score(y_train, y_predicted))\n",
    "\n",
    "# We have to specify how to combine for the multiclassifications\n",
    "print (\"Precision is \", precision_score(y_train, y_predicted, average=\"weighted\"))\n",
    "print (\"Sensitivity is \", recall_score(y_train, y_predicted, average=\"weighted\"))\n",
    "print (\"F1 is \", f1_score(y_train, y_predicted, average=\"weighted\"))\n",
    "\n",
    "y_predicted = myPipe.predict(X_test)\n",
    "matrix = confusion_matrix(y_test, y_predicted)\n",
    "print(matrix)\n",
    "print (\"Accuracy is \", accuracy_score(y_test, y_predicted))\n",
    "\n",
    "# We have to specify how to combine for the multiclassifications\n",
    "print (\"Precision is \", precision_score(y_test, y_predicted, average=\"weighted\"))\n",
    "print (\"Sensitivity is \", recall_score(y_test, y_predicted, average=\"weighted\"))\n",
    "print (\"F1 is \", f1_score(y_test, y_predicted, average=\"weighted\"))\n",
    "\n"
   ]
  },
  {
   "cell_type": "code",
   "execution_count": 7,
   "id": "5cc4f727-9fd9-4801-b2a8-0ab19205b3c7",
   "metadata": {},
   "outputs": [
    {
     "name": "stderr",
     "output_type": "stream",
     "text": [
      "C:\\Users\\s553982\\AppData\\Local\\anaconda3\\Lib\\site-packages\\sklearn\\neural_network\\_multilayer_perceptron.py:1102: DataConversionWarning: A column-vector y was passed when a 1d array was expected. Please change the shape of y to (n_samples, ), for example using ravel().\n",
      "  y = column_or_1d(y, warn=True)\n"
     ]
    },
    {
     "data": {
      "text/html": [
       "<style>#sk-container-id-2 {color: black;}#sk-container-id-2 pre{padding: 0;}#sk-container-id-2 div.sk-toggleable {background-color: white;}#sk-container-id-2 label.sk-toggleable__label {cursor: pointer;display: block;width: 100%;margin-bottom: 0;padding: 0.3em;box-sizing: border-box;text-align: center;}#sk-container-id-2 label.sk-toggleable__label-arrow:before {content: \"▸\";float: left;margin-right: 0.25em;color: #696969;}#sk-container-id-2 label.sk-toggleable__label-arrow:hover:before {color: black;}#sk-container-id-2 div.sk-estimator:hover label.sk-toggleable__label-arrow:before {color: black;}#sk-container-id-2 div.sk-toggleable__content {max-height: 0;max-width: 0;overflow: hidden;text-align: left;background-color: #f0f8ff;}#sk-container-id-2 div.sk-toggleable__content pre {margin: 0.2em;color: black;border-radius: 0.25em;background-color: #f0f8ff;}#sk-container-id-2 input.sk-toggleable__control:checked~div.sk-toggleable__content {max-height: 200px;max-width: 100%;overflow: auto;}#sk-container-id-2 input.sk-toggleable__control:checked~label.sk-toggleable__label-arrow:before {content: \"▾\";}#sk-container-id-2 div.sk-estimator input.sk-toggleable__control:checked~label.sk-toggleable__label {background-color: #d4ebff;}#sk-container-id-2 div.sk-label input.sk-toggleable__control:checked~label.sk-toggleable__label {background-color: #d4ebff;}#sk-container-id-2 input.sk-hidden--visually {border: 0;clip: rect(1px 1px 1px 1px);clip: rect(1px, 1px, 1px, 1px);height: 1px;margin: -1px;overflow: hidden;padding: 0;position: absolute;width: 1px;}#sk-container-id-2 div.sk-estimator {font-family: monospace;background-color: #f0f8ff;border: 1px dotted black;border-radius: 0.25em;box-sizing: border-box;margin-bottom: 0.5em;}#sk-container-id-2 div.sk-estimator:hover {background-color: #d4ebff;}#sk-container-id-2 div.sk-parallel-item::after {content: \"\";width: 100%;border-bottom: 1px solid gray;flex-grow: 1;}#sk-container-id-2 div.sk-label:hover label.sk-toggleable__label {background-color: #d4ebff;}#sk-container-id-2 div.sk-serial::before {content: \"\";position: absolute;border-left: 1px solid gray;box-sizing: border-box;top: 0;bottom: 0;left: 50%;z-index: 0;}#sk-container-id-2 div.sk-serial {display: flex;flex-direction: column;align-items: center;background-color: white;padding-right: 0.2em;padding-left: 0.2em;position: relative;}#sk-container-id-2 div.sk-item {position: relative;z-index: 1;}#sk-container-id-2 div.sk-parallel {display: flex;align-items: stretch;justify-content: center;background-color: white;position: relative;}#sk-container-id-2 div.sk-item::before, #sk-container-id-2 div.sk-parallel-item::before {content: \"\";position: absolute;border-left: 1px solid gray;box-sizing: border-box;top: 0;bottom: 0;left: 50%;z-index: -1;}#sk-container-id-2 div.sk-parallel-item {display: flex;flex-direction: column;z-index: 1;position: relative;background-color: white;}#sk-container-id-2 div.sk-parallel-item:first-child::after {align-self: flex-end;width: 50%;}#sk-container-id-2 div.sk-parallel-item:last-child::after {align-self: flex-start;width: 50%;}#sk-container-id-2 div.sk-parallel-item:only-child::after {width: 0;}#sk-container-id-2 div.sk-dashed-wrapped {border: 1px dashed gray;margin: 0 0.4em 0.5em 0.4em;box-sizing: border-box;padding-bottom: 0.4em;background-color: white;}#sk-container-id-2 div.sk-label label {font-family: monospace;font-weight: bold;display: inline-block;line-height: 1.2em;}#sk-container-id-2 div.sk-label-container {text-align: center;}#sk-container-id-2 div.sk-container {/* jupyter's `normalize.less` sets `[hidden] { display: none; }` but bootstrap.min.css set `[hidden] { display: none !important; }` so we also need the `!important` here to be able to override the default hidden behavior on the sphinx rendered scikit-learn.org. See: https://github.com/scikit-learn/scikit-learn/issues/21755 */display: inline-block !important;position: relative;}#sk-container-id-2 div.sk-text-repr-fallback {display: none;}</style><div id=\"sk-container-id-2\" class=\"sk-top-container\"><div class=\"sk-text-repr-fallback\"><pre>MLPClassifier(activation=&#x27;logistic&#x27;, alpha=1e-05, hidden_layer_sizes=(200, 200),\n",
       "              max_iter=500, random_state=1)</pre><b>In a Jupyter environment, please rerun this cell to show the HTML representation or trust the notebook. <br />On GitHub, the HTML representation is unable to render, please try loading this page with nbviewer.org.</b></div><div class=\"sk-container\" hidden><div class=\"sk-item\"><div class=\"sk-estimator sk-toggleable\"><input class=\"sk-toggleable__control sk-hidden--visually\" id=\"sk-estimator-id-4\" type=\"checkbox\" checked><label for=\"sk-estimator-id-4\" class=\"sk-toggleable__label sk-toggleable__label-arrow\">MLPClassifier</label><div class=\"sk-toggleable__content\"><pre>MLPClassifier(activation=&#x27;logistic&#x27;, alpha=1e-05, hidden_layer_sizes=(200, 200),\n",
       "              max_iter=500, random_state=1)</pre></div></div></div></div></div>"
      ],
      "text/plain": [
       "MLPClassifier(activation='logistic', alpha=1e-05, hidden_layer_sizes=(200, 200),\n",
       "              max_iter=500, random_state=1)"
      ]
     },
     "execution_count": 7,
     "metadata": {},
     "output_type": "execute_result"
    }
   ],
   "source": [
    "from sklearn.neural_network import MLPClassifier\n",
    "model = MLPClassifier(\n",
    "    solver='adam', \n",
    "    activation='logistic', \n",
    "    alpha=1e-5, \n",
    "    hidden_layer_sizes=(200,200),\n",
    "    random_state=1,max_iter=500)\n",
    "\n",
    "use = [\"temp_max\",\"temp_min\",\"precipitation\",\"wind\",\"prev_temp_min\",\"prev_temp_max\"]\n",
    "#use = [\"temp_max\",\"temp_min\",\"wind\", \"precipitation\"]\n",
    "find = [\"weather\"]\n",
    "\n",
    "X_train = train_set[use]\n",
    "y_train = train_set[find]\n",
    "\n",
    "X_test = test_set[use]\n",
    "y_test = test_set[find]\n",
    "\n",
    "model.fit(X_train, y_train)\n",
    "\n"
   ]
  },
  {
   "cell_type": "code",
   "execution_count": 8,
   "id": "ee08f875-25dc-4313-aab4-8e4f7b9a6f8e",
   "metadata": {},
   "outputs": [
    {
     "name": "stdout",
     "output_type": "stream",
     "text": [
      "[[  0   0  41   0   0]\n",
      " [  0 480  35   3   1]\n",
      " [  0   1 501   0   4]\n",
      " [  0   7   0  12   0]\n",
      " [  0   0  83   0   0]]\n",
      "Accuracy is  0.8501712328767124\n",
      "Precision is  0.7789313384235348\n",
      "Sensitivity is  0.8501712328767124\n",
      "F1 is  0.8073788676684641\n",
      "\n",
      "[[  0   0  11   0   0]\n",
      " [  0 113   7   2   0]\n",
      " [  0   1 133   0   0]\n",
      " [  0   2   0   5   0]\n",
      " [  0   0  18   0   0]]\n",
      "Accuracy is  0.8595890410958904\n",
      "Precision is  0.7852755098903494\n",
      "Sensitivity is  0.8595890410958904\n",
      "F1 is  0.8167318602471505\n"
     ]
    },
    {
     "name": "stderr",
     "output_type": "stream",
     "text": [
      "C:\\Users\\s553982\\AppData\\Local\\anaconda3\\Lib\\site-packages\\sklearn\\metrics\\_classification.py:1469: UndefinedMetricWarning: Precision is ill-defined and being set to 0.0 in labels with no predicted samples. Use `zero_division` parameter to control this behavior.\n",
      "  _warn_prf(average, modifier, msg_start, len(result))\n",
      "C:\\Users\\s553982\\AppData\\Local\\anaconda3\\Lib\\site-packages\\sklearn\\metrics\\_classification.py:1469: UndefinedMetricWarning: Precision is ill-defined and being set to 0.0 in labels with no predicted samples. Use `zero_division` parameter to control this behavior.\n",
      "  _warn_prf(average, modifier, msg_start, len(result))\n"
     ]
    }
   ],
   "source": [
    "y_predicted = model.predict(X_train)\n",
    "matrix = confusion_matrix(y_train, y_predicted)\n",
    "print(matrix)\n",
    "print (\"Accuracy is \", accuracy_score(y_train, y_predicted))\n",
    "print (\"Precision is \", precision_score(y_train, y_predicted, average=\"weighted\"))\n",
    "print (\"Sensitivity is \", recall_score(y_train, y_predicted, average=\"weighted\"))\n",
    "print (\"F1 is \", f1_score(y_train, y_predicted, average=\"weighted\"))\n",
    "\n",
    "print()\n",
    "\n",
    "y_predicted = model.predict(X_test)\n",
    "matrix = confusion_matrix(y_test, y_predicted)\n",
    "print(matrix)\n",
    "print (\"Accuracy is \", accuracy_score(y_test, y_predicted))\n",
    "print (\"Precision is \", precision_score(y_test, y_predicted, average=\"weighted\"))\n",
    "print (\"Sensitivity is \", recall_score(y_test, y_predicted, average=\"weighted\"))\n",
    "print (\"F1 is \", f1_score(y_test, y_predicted, average=\"weighted\"))"
   ]
  },
  {
   "cell_type": "code",
   "execution_count": 9,
   "id": "f0fba2c6-0cc8-4b0a-9f76-4d48e626582c",
   "metadata": {},
   "outputs": [
    {
     "name": "stdout",
     "output_type": "stream",
     "text": [
      "Indices of outliers: (array([  19,   27,   47,   73,   87,  119,  299,  302,  322,  326,  333,\n",
      "        350,  373,  417,  443,  461,  612,  635,  670,  675,  686,  699,\n",
      "        705,  740,  741,  776,  776,  793,  796,  804,  852, 1024, 1032,\n",
      "       1044, 1045, 1061, 1111, 1130, 1132, 1168, 1320, 1335, 1377, 1398,\n",
      "       1399, 1411, 1412, 1415, 1415, 1435, 1436, 1449, 1451], dtype=int64), array([3, 2, 3, 2, 2, 3, 2, 2, 2, 2, 2, 3, 2, 3, 3, 2, 2, 2, 3, 2, 2, 3,\n",
      "       1, 3, 3, 2, 3, 2, 2, 2, 2, 2, 2, 3, 3, 2, 2, 2, 2, 2, 2, 2, 2, 2,\n",
      "       2, 2, 2, 2, 3, 2, 2, 2, 3], dtype=int64))\n"
     ]
    }
   ],
   "source": [
    "import numpy as np\n",
    "\n",
    "X = weather[[\"temp_max\",\"temp_min\",\"precipitation\",\"wind\"]]\n",
    "Y = weather[\"weather\"]\n",
    "\n",
    "z_scores = np.abs((X - X.mean()) / X.std())\n",
    "threshold = 3\n",
    "outliers = np.where(z_scores > threshold)\n",
    "print(\"Indices of outliers:\", outliers)\n"
   ]
  },
  {
   "cell_type": "code",
   "execution_count": 10,
   "id": "bb78be8f-71fb-4609-94ae-d9c2ce10757d",
   "metadata": {},
   "outputs": [
    {
     "name": "stderr",
     "output_type": "stream",
     "text": [
      "C:\\Users\\s553982\\AppData\\Local\\anaconda3\\Lib\\site-packages\\sklearn\\neural_network\\_multilayer_perceptron.py:1102: DataConversionWarning: A column-vector y was passed when a 1d array was expected. Please change the shape of y to (n_samples, ), for example using ravel().\n",
      "  y = column_or_1d(y, warn=True)\n"
     ]
    },
    {
     "data": {
      "text/html": [
       "<style>#sk-container-id-3 {color: black;}#sk-container-id-3 pre{padding: 0;}#sk-container-id-3 div.sk-toggleable {background-color: white;}#sk-container-id-3 label.sk-toggleable__label {cursor: pointer;display: block;width: 100%;margin-bottom: 0;padding: 0.3em;box-sizing: border-box;text-align: center;}#sk-container-id-3 label.sk-toggleable__label-arrow:before {content: \"▸\";float: left;margin-right: 0.25em;color: #696969;}#sk-container-id-3 label.sk-toggleable__label-arrow:hover:before {color: black;}#sk-container-id-3 div.sk-estimator:hover label.sk-toggleable__label-arrow:before {color: black;}#sk-container-id-3 div.sk-toggleable__content {max-height: 0;max-width: 0;overflow: hidden;text-align: left;background-color: #f0f8ff;}#sk-container-id-3 div.sk-toggleable__content pre {margin: 0.2em;color: black;border-radius: 0.25em;background-color: #f0f8ff;}#sk-container-id-3 input.sk-toggleable__control:checked~div.sk-toggleable__content {max-height: 200px;max-width: 100%;overflow: auto;}#sk-container-id-3 input.sk-toggleable__control:checked~label.sk-toggleable__label-arrow:before {content: \"▾\";}#sk-container-id-3 div.sk-estimator input.sk-toggleable__control:checked~label.sk-toggleable__label {background-color: #d4ebff;}#sk-container-id-3 div.sk-label input.sk-toggleable__control:checked~label.sk-toggleable__label {background-color: #d4ebff;}#sk-container-id-3 input.sk-hidden--visually {border: 0;clip: rect(1px 1px 1px 1px);clip: rect(1px, 1px, 1px, 1px);height: 1px;margin: -1px;overflow: hidden;padding: 0;position: absolute;width: 1px;}#sk-container-id-3 div.sk-estimator {font-family: monospace;background-color: #f0f8ff;border: 1px dotted black;border-radius: 0.25em;box-sizing: border-box;margin-bottom: 0.5em;}#sk-container-id-3 div.sk-estimator:hover {background-color: #d4ebff;}#sk-container-id-3 div.sk-parallel-item::after {content: \"\";width: 100%;border-bottom: 1px solid gray;flex-grow: 1;}#sk-container-id-3 div.sk-label:hover label.sk-toggleable__label {background-color: #d4ebff;}#sk-container-id-3 div.sk-serial::before {content: \"\";position: absolute;border-left: 1px solid gray;box-sizing: border-box;top: 0;bottom: 0;left: 50%;z-index: 0;}#sk-container-id-3 div.sk-serial {display: flex;flex-direction: column;align-items: center;background-color: white;padding-right: 0.2em;padding-left: 0.2em;position: relative;}#sk-container-id-3 div.sk-item {position: relative;z-index: 1;}#sk-container-id-3 div.sk-parallel {display: flex;align-items: stretch;justify-content: center;background-color: white;position: relative;}#sk-container-id-3 div.sk-item::before, #sk-container-id-3 div.sk-parallel-item::before {content: \"\";position: absolute;border-left: 1px solid gray;box-sizing: border-box;top: 0;bottom: 0;left: 50%;z-index: -1;}#sk-container-id-3 div.sk-parallel-item {display: flex;flex-direction: column;z-index: 1;position: relative;background-color: white;}#sk-container-id-3 div.sk-parallel-item:first-child::after {align-self: flex-end;width: 50%;}#sk-container-id-3 div.sk-parallel-item:last-child::after {align-self: flex-start;width: 50%;}#sk-container-id-3 div.sk-parallel-item:only-child::after {width: 0;}#sk-container-id-3 div.sk-dashed-wrapped {border: 1px dashed gray;margin: 0 0.4em 0.5em 0.4em;box-sizing: border-box;padding-bottom: 0.4em;background-color: white;}#sk-container-id-3 div.sk-label label {font-family: monospace;font-weight: bold;display: inline-block;line-height: 1.2em;}#sk-container-id-3 div.sk-label-container {text-align: center;}#sk-container-id-3 div.sk-container {/* jupyter's `normalize.less` sets `[hidden] { display: none; }` but bootstrap.min.css set `[hidden] { display: none !important; }` so we also need the `!important` here to be able to override the default hidden behavior on the sphinx rendered scikit-learn.org. See: https://github.com/scikit-learn/scikit-learn/issues/21755 */display: inline-block !important;position: relative;}#sk-container-id-3 div.sk-text-repr-fallback {display: none;}</style><div id=\"sk-container-id-3\" class=\"sk-top-container\"><div class=\"sk-text-repr-fallback\"><pre>MLPClassifier(activation=&#x27;logistic&#x27;, alpha=1e-05, hidden_layer_sizes=(200, 200),\n",
       "              max_iter=500, random_state=1)</pre><b>In a Jupyter environment, please rerun this cell to show the HTML representation or trust the notebook. <br />On GitHub, the HTML representation is unable to render, please try loading this page with nbviewer.org.</b></div><div class=\"sk-container\" hidden><div class=\"sk-item\"><div class=\"sk-estimator sk-toggleable\"><input class=\"sk-toggleable__control sk-hidden--visually\" id=\"sk-estimator-id-5\" type=\"checkbox\" checked><label for=\"sk-estimator-id-5\" class=\"sk-toggleable__label sk-toggleable__label-arrow\">MLPClassifier</label><div class=\"sk-toggleable__content\"><pre>MLPClassifier(activation=&#x27;logistic&#x27;, alpha=1e-05, hidden_layer_sizes=(200, 200),\n",
       "              max_iter=500, random_state=1)</pre></div></div></div></div></div>"
      ],
      "text/plain": [
       "MLPClassifier(activation='logistic', alpha=1e-05, hidden_layer_sizes=(200, 200),\n",
       "              max_iter=500, random_state=1)"
      ]
     },
     "execution_count": 10,
     "metadata": {},
     "output_type": "execute_result"
    }
   ],
   "source": [
    "from sklearn.neural_network import MLPClassifier\n",
    "model = MLPClassifier(\n",
    "    solver='adam', \n",
    "    activation='logistic', \n",
    "    alpha=1e-5, \n",
    "    hidden_layer_sizes=(200,200),\n",
    "    random_state=1,max_iter=500)\n",
    "\n",
    "train_set = train_set[(train_set['weather'] != 0) & (train_set['weather'] != 4)]\n",
    "test_set = test_set[(test_set['weather'] != 0) & (test_set['weather'] != 4)]\n",
    "\n",
    "use = [\"temp_max\",\"temp_min\",\"wind\", \"precipitation\"]\n",
    "find = [\"weather\"]\n",
    "X_train = train_set[use]\n",
    "y_train = train_set[find]\n",
    "\n",
    "X_test = test_set[use]\n",
    "y_test = test_set[find]\n",
    "\n",
    "model.fit(X_train, y_train)\n",
    "\n"
   ]
  },
  {
   "cell_type": "code",
   "execution_count": 11,
   "id": "3799fb5c-6ba9-42ce-99ea-864657bbb6b9",
   "metadata": {},
   "outputs": [
    {
     "name": "stdout",
     "output_type": "stream",
     "text": [
      "[[482  35   2]\n",
      " [  6 500   0]\n",
      " [  9   0  10]]\n",
      "Accuracy is  0.9501915708812261\n",
      "Precision is  0.9502553119651294\n",
      "Sensitivity is  0.9501915708812261\n",
      "F1 is  0.9490097297747716\n",
      "\n",
      "[[113   7   2]\n",
      " [  0 134   0]\n",
      " [  2   0   5]]\n",
      "Accuracy is  0.9581749049429658\n",
      "Precision is  0.9590333787074589\n",
      "Sensitivity is  0.9581749049429658\n",
      "F1 is  0.9578959834665663\n"
     ]
    }
   ],
   "source": [
    "y_predicted = model.predict(X_train)\n",
    "matrix = confusion_matrix(y_train, y_predicted)\n",
    "print(matrix)\n",
    "print (\"Accuracy is \", accuracy_score(y_train, y_predicted))\n",
    "print (\"Precision is \", precision_score(y_train, y_predicted, average=\"weighted\"))\n",
    "print (\"Sensitivity is \", recall_score(y_train, y_predicted, average=\"weighted\"))\n",
    "print (\"F1 is \", f1_score(y_train, y_predicted, average=\"weighted\"))\n",
    "\n",
    "print()\n",
    "\n",
    "y_predicted = model.predict(X_test)\n",
    "matrix = confusion_matrix(y_test, y_predicted)\n",
    "print(matrix)\n",
    "print (\"Accuracy is \", accuracy_score(y_test, y_predicted))\n",
    "print (\"Precision is \", precision_score(y_test, y_predicted, average=\"weighted\"))\n",
    "print (\"Sensitivity is \", recall_score(y_test, y_predicted, average=\"weighted\"))\n",
    "print (\"F1 is \", f1_score(y_test, y_predicted, average=\"weighted\"))"
   ]
  }
 ],
 "metadata": {
  "kernelspec": {
   "display_name": "Python 3 (ipykernel)",
   "language": "python",
   "name": "python3"
  },
  "language_info": {
   "codemirror_mode": {
    "name": "ipython",
    "version": 3
   },
   "file_extension": ".py",
   "mimetype": "text/x-python",
   "name": "python",
   "nbconvert_exporter": "python",
   "pygments_lexer": "ipython3",
   "version": "3.11.5"
  }
 },
 "nbformat": 4,
 "nbformat_minor": 5
}
