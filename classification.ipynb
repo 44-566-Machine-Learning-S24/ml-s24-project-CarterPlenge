{
 "cells": [
  {
   "cell_type": "markdown",
   "id": "3c220871-ae1b-446f-9003-38a7632c88aa",
   "metadata": {},
   "source": [
    "1."
   ]
  },
  {
   "cell_type": "code",
   "execution_count": 2,
   "id": "cb18baef-d14b-4f67-a3e8-4dba55961382",
   "metadata": {},
   "outputs": [
    {
     "data": {
      "text/html": [
       "<div>\n",
       "<style scoped>\n",
       "    .dataframe tbody tr th:only-of-type {\n",
       "        vertical-align: middle;\n",
       "    }\n",
       "\n",
       "    .dataframe tbody tr th {\n",
       "        vertical-align: top;\n",
       "    }\n",
       "\n",
       "    .dataframe thead th {\n",
       "        text-align: right;\n",
       "    }\n",
       "</style>\n",
       "<table border=\"1\" class=\"dataframe\">\n",
       "  <thead>\n",
       "    <tr style=\"text-align: right;\">\n",
       "      <th></th>\n",
       "      <th>date</th>\n",
       "      <th>precipitation</th>\n",
       "      <th>temp_max</th>\n",
       "      <th>temp_min</th>\n",
       "      <th>wind</th>\n",
       "      <th>weather</th>\n",
       "      <th>Report Date</th>\n",
       "      <th>Offense Count</th>\n",
       "    </tr>\n",
       "  </thead>\n",
       "  <tbody>\n",
       "    <tr>\n",
       "      <th>0</th>\n",
       "      <td>2014-01-17</td>\n",
       "      <td>0.0</td>\n",
       "      <td>5.6</td>\n",
       "      <td>2.8</td>\n",
       "      <td>2.3</td>\n",
       "      <td>2</td>\n",
       "      <td>2014-01-17</td>\n",
       "      <td>2.0</td>\n",
       "    </tr>\n",
       "    <tr>\n",
       "      <th>1</th>\n",
       "      <td>2014-01-18</td>\n",
       "      <td>0.0</td>\n",
       "      <td>9.4</td>\n",
       "      <td>0.6</td>\n",
       "      <td>2.2</td>\n",
       "      <td>2</td>\n",
       "      <td>NaT</td>\n",
       "      <td>0.0</td>\n",
       "    </tr>\n",
       "    <tr>\n",
       "      <th>2</th>\n",
       "      <td>2014-01-19</td>\n",
       "      <td>0.0</td>\n",
       "      <td>6.1</td>\n",
       "      <td>3.3</td>\n",
       "      <td>2.5</td>\n",
       "      <td>2</td>\n",
       "      <td>2014-01-19</td>\n",
       "      <td>2.0</td>\n",
       "    </tr>\n",
       "    <tr>\n",
       "      <th>3</th>\n",
       "      <td>2014-01-20</td>\n",
       "      <td>0.0</td>\n",
       "      <td>10.0</td>\n",
       "      <td>2.8</td>\n",
       "      <td>2.2</td>\n",
       "      <td>2</td>\n",
       "      <td>NaT</td>\n",
       "      <td>0.0</td>\n",
       "    </tr>\n",
       "    <tr>\n",
       "      <th>4</th>\n",
       "      <td>2014-01-21</td>\n",
       "      <td>0.0</td>\n",
       "      <td>10.0</td>\n",
       "      <td>1.7</td>\n",
       "      <td>1.5</td>\n",
       "      <td>2</td>\n",
       "      <td>NaT</td>\n",
       "      <td>0.0</td>\n",
       "    </tr>\n",
       "  </tbody>\n",
       "</table>\n",
       "</div>"
      ],
      "text/plain": [
       "        date  precipitation  temp_max  temp_min  wind  weather Report Date  \\\n",
       "0 2014-01-17            0.0       5.6       2.8   2.3        2  2014-01-17   \n",
       "1 2014-01-18            0.0       9.4       0.6   2.2        2         NaT   \n",
       "2 2014-01-19            0.0       6.1       3.3   2.5        2  2014-01-19   \n",
       "3 2014-01-20            0.0      10.0       2.8   2.2        2         NaT   \n",
       "4 2014-01-21            0.0      10.0       1.7   1.5        2         NaT   \n",
       "\n",
       "   Offense Count  \n",
       "0            2.0  \n",
       "1            0.0  \n",
       "2            2.0  \n",
       "3            0.0  \n",
       "4            0.0  "
      ]
     },
     "execution_count": 2,
     "metadata": {},
     "output_type": "execute_result"
    }
   ],
   "source": [
    "#bringing in, cleaning, and merging datasets\n",
    "import pandas as pd\n",
    "#import the csv files\n",
    "weather = pd.read_csv(\"seattle-weather.csv\")\n",
    "reports = pd.read_csv(\"SPD_Reports.csv\")\n",
    "\n",
    "\n",
    "#remove data that will be unused\n",
    "reports.drop(columns=[\"Offense Description\", \"Block\", \"District\",\"Beat\",\"2000 Census Tract\",\"Longitude\",\"Latitude\",\"Offense Start Date\",\"Offense End Date\"],inplace=True)\n",
    "\n",
    "#fix data types\n",
    "reports[\"Report Date\"] = pd.to_datetime(reports[\"Report Date\"])\n",
    "weather[\"date\"] = pd.to_datetime(weather[\"date\"])\n",
    "\n",
    "weather_mapping = {'drizzle': 0, 'rain': 1, 'sun': 2, 'snow': 3, 'fog': 4}\n",
    "weather[\"weather\"] = weather[\"weather\"].map(weather_mapping)\n",
    "\n",
    "# Define the date range covered by data sets\n",
    "start_date = pd.to_datetime(\"2014-01-17\")\n",
    "end_date = pd.to_datetime(\"2015-12-31\")\n",
    "\n",
    "# Filter out unusable records\n",
    "reports_filtered = reports[(reports[\"Report Date\"] >= start_date) & (reports[\"Report Date\"] <= end_date)]\n",
    "weather_filtered = weather[(weather[\"date\"] >= start_date) & (weather[\"date\"] <= end_date)]\n",
    "\n",
    "#merge datasets\n",
    "merged_data = pd.merge(weather_filtered, reports_filtered.groupby('Report Date').size().reset_index(name='Offense Count'), left_on=\"date\", right_on=\"Report Date\", how=\"left\")\n",
    "merged_data['Offense Count'].fillna(0, inplace=True)\n",
    "merged_data.head()\n"
   ]
  },
  {
   "cell_type": "code",
   "execution_count": 3,
   "id": "52887b40-46a0-411e-afea-c106cd7b1710",
   "metadata": {},
   "outputs": [
    {
     "data": {
      "image/png": "[encoded data removed]",
      "text/plain": [
       "<Figure size 640x480 with 1 Axes>"
      ]
     },
     "metadata": {},
     "output_type": "display_data"
    },
    {
     "data": {
      "image/png": "[encoded data removed]",
      "text/plain": [
       "<Figure size 640x480 with 1 Axes>"
      ]
     },
     "metadata": {},
     "output_type": "display_data"
    },
    {
     "data": {
      "image/png": "[encoded data removed]",
      "text/plain": [
       "<Figure size 640x480 with 1 Axes>"
      ]
     },
     "metadata": {},
     "output_type": "display_data"
    },
    {
     "data": {
      "image/png": "[encoded data removed]",
      "text/plain": [
       "<Figure size 640x480 with 1 Axes>"
      ]
     },
     "metadata": {},
     "output_type": "display_data"
    }
   ],
   "source": [
    "import matplotlib.pyplot as plt\n",
    "\n",
    "plt.scatter(merged_data[\"precipitation\"], merged_data[\"Offense Count\"], color=\"blue\")\n",
    "plt.xlabel(\"precipitation\")\n",
    "plt.ylabel(\"Offense Count\")\n",
    "plt.show()\n",
    "\n",
    "plt.scatter(merged_data[\"temp_max\"], merged_data[\"Offense Count\"], color=\"red\")\n",
    "plt.xlabel(\"temp_max\")\n",
    "plt.ylabel(\"Offense Count\")\n",
    "plt.show()\n",
    "\n",
    "plt.scatter(merged_data[\"temp_min\"], merged_data[\"Offense Count\"], color=\"green\")\n",
    "plt.xlabel(\"temp_min\")\n",
    "plt.ylabel(\"Offense Count\")\n",
    "plt.show()\n",
    "\n",
    "plt.scatter(merged_data[\"wind\"], merged_data[\"Offense Count\"], color=\"yellow\")\n",
    "plt.xlabel(\"wind\")\n",
    "plt.ylabel(\"Offense Count\")\n",
    "plt.show()\n",
    "\n"
   ]
  },
  {
   "cell_type": "markdown",
   "id": "d9b09fec-a1d5-4b19-a8c1-0bef77dd8336",
   "metadata": {},
   "source": [
    "The goal is to use precipitation, temp_max, temp_min, and wind to predict the number of offenses that happened on that day. The graphs show that as weather conditions approach less desirable numbers, the number of crimes committed also decreases."
   ]
  },
  {
   "cell_type": "code",
   "execution_count": 4,
   "id": "23491a63-a6bd-4dda-8445-662493c2f848",
   "metadata": {},
   "outputs": [
    {
     "data": {
      "text/html": [
       "<style>#sk-container-id-1 {color: black;}#sk-container-id-1 pre{padding: 0;}#sk-container-id-1 div.sk-toggleable {background-color: white;}#sk-container-id-1 label.sk-toggleable__label {cursor: pointer;display: block;width: 100%;margin-bottom: 0;padding: 0.3em;box-sizing: border-box;text-align: center;}#sk-container-id-1 label.sk-toggleable__label-arrow:before {content: \"▸\";float: left;margin-right: 0.25em;color: #696969;}#sk-container-id-1 label.sk-toggleable__label-arrow:hover:before {color: black;}#sk-container-id-1 div.sk-estimator:hover label.sk-toggleable__label-arrow:before {color: black;}#sk-container-id-1 div.sk-toggleable__content {max-height: 0;max-width: 0;overflow: hidden;text-align: left;background-color: #f0f8ff;}#sk-container-id-1 div.sk-toggleable__content pre {margin: 0.2em;color: black;border-radius: 0.25em;background-color: #f0f8ff;}#sk-container-id-1 input.sk-toggleable__control:checked~div.sk-toggleable__content {max-height: 200px;max-width: 100%;overflow: auto;}#sk-container-id-1 input.sk-toggleable__control:checked~label.sk-toggleable__label-arrow:before {content: \"▾\";}#sk-container-id-1 div.sk-estimator input.sk-toggleable__control:checked~label.sk-toggleable__label {background-color: #d4ebff;}#sk-container-id-1 div.sk-label input.sk-toggleable__control:checked~label.sk-toggleable__label {background-color: #d4ebff;}#sk-container-id-1 input.sk-hidden--visually {border: 0;clip: rect(1px 1px 1px 1px);clip: rect(1px, 1px, 1px, 1px);height: 1px;margin: -1px;overflow: hidden;padding: 0;position: absolute;width: 1px;}#sk-container-id-1 div.sk-estimator {font-family: monospace;background-color: #f0f8ff;border: 1px dotted black;border-radius: 0.25em;box-sizing: border-box;margin-bottom: 0.5em;}#sk-container-id-1 div.sk-estimator:hover {background-color: #d4ebff;}#sk-container-id-1 div.sk-parallel-item::after {content: \"\";width: 100%;border-bottom: 1px solid gray;flex-grow: 1;}#sk-container-id-1 div.sk-label:hover label.sk-toggleable__label {background-color: #d4ebff;}#sk-container-id-1 div.sk-serial::before {content: \"\";position: absolute;border-left: 1px solid gray;box-sizing: border-box;top: 0;bottom: 0;left: 50%;z-index: 0;}#sk-container-id-1 div.sk-serial {display: flex;flex-direction: column;align-items: center;background-color: white;padding-right: 0.2em;padding-left: 0.2em;position: relative;}#sk-container-id-1 div.sk-item {position: relative;z-index: 1;}#sk-container-id-1 div.sk-parallel {display: flex;align-items: stretch;justify-content: center;background-color: white;position: relative;}#sk-container-id-1 div.sk-item::before, #sk-container-id-1 div.sk-parallel-item::before {content: \"\";position: absolute;border-left: 1px solid gray;box-sizing: border-box;top: 0;bottom: 0;left: 50%;z-index: -1;}#sk-container-id-1 div.sk-parallel-item {display: flex;flex-direction: column;z-index: 1;position: relative;background-color: white;}#sk-container-id-1 div.sk-parallel-item:first-child::after {align-self: flex-end;width: 50%;}#sk-container-id-1 div.sk-parallel-item:last-child::after {align-self: flex-start;width: 50%;}#sk-container-id-1 div.sk-parallel-item:only-child::after {width: 0;}#sk-container-id-1 div.sk-dashed-wrapped {border: 1px dashed gray;margin: 0 0.4em 0.5em 0.4em;box-sizing: border-box;padding-bottom: 0.4em;background-color: white;}#sk-container-id-1 div.sk-label label {font-family: monospace;font-weight: bold;display: inline-block;line-height: 1.2em;}#sk-container-id-1 div.sk-label-container {text-align: center;}#sk-container-id-1 div.sk-container {/* jupyter's `normalize.less` sets `[hidden] { display: none; }` but bootstrap.min.css set `[hidden] { display: none !important; }` so we also need the `!important` here to be able to override the default hidden behavior on the sphinx rendered scikit-learn.org. See: https://github.com/scikit-learn/scikit-learn/issues/21755 */display: inline-block !important;position: relative;}#sk-container-id-1 div.sk-text-repr-fallback {display: none;}</style><div id=\"sk-container-id-1\" class=\"sk-top-container\"><div class=\"sk-text-repr-fallback\"><pre>DecisionTreeClassifier()</pre><b>In a Jupyter environment, please rerun this cell to show the HTML representation or trust the notebook. <br />On GitHub, the HTML representation is unable to render, please try loading this page with nbviewer.org.</b></div><div class=\"sk-container\" hidden><div class=\"sk-item\"><div class=\"sk-estimator sk-toggleable\"><input class=\"sk-toggleable__control sk-hidden--visually\" id=\"sk-estimator-id-1\" type=\"checkbox\" checked><label for=\"sk-estimator-id-1\" class=\"sk-toggleable__label sk-toggleable__label-arrow\">DecisionTreeClassifier</label><div class=\"sk-toggleable__content\"><pre>DecisionTreeClassifier()</pre></div></div></div></div></div>"
      ],
      "text/plain": [
       "DecisionTreeClassifier()"
      ]
     },
     "execution_count": 4,
     "metadata": {},
     "output_type": "execute_result"
    }
   ],
   "source": [
    "from sklearn.tree import DecisionTreeClassifier\n",
    "X = merged_data[[\"temp_max\",\"precipitation\",\"temp_min\",\"wind\"]]\n",
    "Y = merged_data[\"Offense Count\"]\n",
    "\n",
    "tree_classifier = DecisionTreeClassifier()\n",
    "tree_classifier.fit(X,Y)"
   ]
  },
  {
   "cell_type": "code",
   "execution_count": 5,
   "id": "a0d9bec4-c658-4c17-a29f-f953746c18d1",
   "metadata": {},
   "outputs": [
    {
     "name": "stdout",
     "output_type": "stream",
     "text": [
      "[[654   0   0   0]\n",
      " [  0  51   0   0]\n",
      " [  0   0   8   0]\n",
      " [  0   0   0   1]]\n"
     ]
    }
   ],
   "source": [
    "from sklearn.metrics import confusion_matrix\n",
    "y_predicted = tree_classifier.predict(X)\n",
    "matrix = confusion_matrix(Y, y_predicted)\n",
    "print(matrix)\n"
   ]
  },
  {
   "cell_type": "markdown",
   "id": "c3f38dbf-eabf-460c-b7fc-143b0341a68e",
   "metadata": {},
   "source": [
    "Looks way too good to be true. Probably overfitting"
   ]
  },
  {
   "cell_type": "code",
   "execution_count": 6,
   "id": "7309bb25-1def-482f-b3ad-1627bbf7ad8f",
   "metadata": {},
   "outputs": [
    {
     "name": "stdout",
     "output_type": "stream",
     "text": [
      "Accuracy is  1.0\n",
      "Precision is  1.0\n",
      "Sensitivity is  1.0\n",
      "F1 is  1.0\n"
     ]
    }
   ],
   "source": [
    "from sklearn.metrics import accuracy_score, precision_score, recall_score, f1_score\n",
    "print (\"Accuracy is \", accuracy_score(Y, y_predicted))\n",
    "\n",
    "# We have to specify how to combine for the multiclassifications\n",
    "print (\"Precision is \", precision_score(Y, y_predicted, average=\"weighted\"))\n",
    "print (\"Sensitivity is \", recall_score(Y, y_predicted, average=\"weighted\"))\n",
    "print (\"F1 is \", f1_score(Y, y_predicted, average=\"weighted\"))\n"
   ]
  },
  {
   "cell_type": "code",
   "execution_count": 7,
   "id": "dfd72f39-de7f-4e60-97a4-1fef92312e76",
   "metadata": {},
   "outputs": [
    {
     "name": "stdout",
     "output_type": "stream",
     "text": [
      "Cross validation accuracies are:  [0.7692307692307693, 0.8531468531468531, 0.8321678321678322, 0.8811188811188811, 0.8098591549295775]\n",
      "Cross validation f1 scores  are:  [0.7905138339920948, 0.8589703149036944, 0.8398186580004762, 0.8937993486156345, 0.7941031402422317]\n"
     ]
    }
   ],
   "source": [
    "from sklearn.model_selection import KFold\n",
    "from sklearn.tree import DecisionTreeClassifier\n",
    "from sklearn.metrics import accuracy_score, f1_score, confusion_matrix\n",
    "\n",
    "validation_accuracy = []\n",
    "validation_f1 =[]\n",
    "fold_and_validate = KFold(n_splits=5, shuffle=True, random_state=145)\n",
    "for train_set_indices, validation_set_indices in fold_and_validate.split(X):\n",
    "    cv_train_set = X.iloc[train_set_indices]\n",
    "    cv_train_target = Y.iloc[train_set_indices]\n",
    "    #print(cv_train_set)\n",
    "    \n",
    "    cv_decision_tree = DecisionTreeClassifier()\n",
    "    cv_decision_tree.fit(cv_train_set, cv_train_target)\n",
    "    \n",
    "    cv_xvalidation = X.iloc[validation_set_indices]\n",
    "    cv_y_true = Y.iloc[validation_set_indices]\n",
    "    cv_y_predicted = cv_decision_tree.predict(cv_xvalidation)\n",
    "    \n",
    "    cv_accuracy_score = accuracy_score(cv_y_true, cv_y_predicted)\n",
    "    cv_f1_score = f1_score(cv_y_true, cv_y_predicted,  average=\"weighted\")\n",
    "\n",
    "    validation_accuracy.append(cv_accuracy_score)\n",
    "    validation_f1.append(cv_f1_score)\n",
    "    \n",
    "print(\"Cross validation accuracies are: \", validation_accuracy)\n",
    "print(\"Cross validation f1 scores  are: \", validation_f1)\n",
    "    \n"
   ]
  },
  {
   "cell_type": "markdown",
   "id": "ddb57120-e698-4338-b850-9f65c87eafb6",
   "metadata": {},
   "source": [
    "These accuraces are really high compared to what i was expecting. Even if the scores droped form the perfect 1 that it was I still think they are high. "
   ]
  },
  {
   "cell_type": "code",
   "execution_count": 8,
   "id": "d4b15230-e9be-489d-b46c-e7e239efd9ff",
   "metadata": {},
   "outputs": [
    {
     "name": "stdout",
     "output_type": "stream",
     "text": [
      "Offense Count\n",
      "0.0    654\n",
      "1.0     51\n",
      "2.0      8\n",
      "4.0      1\n",
      "Name: count, dtype: int64\n",
      "Number of records in data set: 714\n",
      "% of records that are zero 0.9159663865546218\n"
     ]
    }
   ],
   "source": [
    "print(merged_data[\"Offense Count\"].value_counts())\n",
    "print(\"Number of records in data set:\",merged_data[\"Offense Count\"].count())\n",
    "print(\"% of records that are zero\", 654/714)"
   ]
  },
  {
   "cell_type": "markdown",
   "id": "6628ba5a-a055-4cf8-a7f0-790531bdd1ac",
   "metadata": {},
   "source": [
    "Never mind those predictions are bad. roughly 92% of the values are 0 so having a prediction rate around 80% is bad. "
   ]
  },
  {
   "cell_type": "code",
   "execution_count": 9,
   "id": "2f01becc-4846-453a-9033-07931003e719",
   "metadata": {},
   "outputs": [
    {
     "data": {
      "text/html": [
       "<style>#sk-container-id-2 {color: black;}#sk-container-id-2 pre{padding: 0;}#sk-container-id-2 div.sk-toggleable {background-color: white;}#sk-container-id-2 label.sk-toggleable__label {cursor: pointer;display: block;width: 100%;margin-bottom: 0;padding: 0.3em;box-sizing: border-box;text-align: center;}#sk-container-id-2 label.sk-toggleable__label-arrow:before {content: \"▸\";float: left;margin-right: 0.25em;color: #696969;}#sk-container-id-2 label.sk-toggleable__label-arrow:hover:before {color: black;}#sk-container-id-2 div.sk-estimator:hover label.sk-toggleable__label-arrow:before {color: black;}#sk-container-id-2 div.sk-toggleable__content {max-height: 0;max-width: 0;overflow: hidden;text-align: left;background-color: #f0f8ff;}#sk-container-id-2 div.sk-toggleable__content pre {margin: 0.2em;color: black;border-radius: 0.25em;background-color: #f0f8ff;}#sk-container-id-2 input.sk-toggleable__control:checked~div.sk-toggleable__content {max-height: 200px;max-width: 100%;overflow: auto;}#sk-container-id-2 input.sk-toggleable__control:checked~label.sk-toggleable__label-arrow:before {content: \"▾\";}#sk-container-id-2 div.sk-estimator input.sk-toggleable__control:checked~label.sk-toggleable__label {background-color: #d4ebff;}#sk-container-id-2 div.sk-label input.sk-toggleable__control:checked~label.sk-toggleable__label {background-color: #d4ebff;}#sk-container-id-2 input.sk-hidden--visually {border: 0;clip: rect(1px 1px 1px 1px);clip: rect(1px, 1px, 1px, 1px);height: 1px;margin: -1px;overflow: hidden;padding: 0;position: absolute;width: 1px;}#sk-container-id-2 div.sk-estimator {font-family: monospace;background-color: #f0f8ff;border: 1px dotted black;border-radius: 0.25em;box-sizing: border-box;margin-bottom: 0.5em;}#sk-container-id-2 div.sk-estimator:hover {background-color: #d4ebff;}#sk-container-id-2 div.sk-parallel-item::after {content: \"\";width: 100%;border-bottom: 1px solid gray;flex-grow: 1;}#sk-container-id-2 div.sk-label:hover label.sk-toggleable__label {background-color: #d4ebff;}#sk-container-id-2 div.sk-serial::before {content: \"\";position: absolute;border-left: 1px solid gray;box-sizing: border-box;top: 0;bottom: 0;left: 50%;z-index: 0;}#sk-container-id-2 div.sk-serial {display: flex;flex-direction: column;align-items: center;background-color: white;padding-right: 0.2em;padding-left: 0.2em;position: relative;}#sk-container-id-2 div.sk-item {position: relative;z-index: 1;}#sk-container-id-2 div.sk-parallel {display: flex;align-items: stretch;justify-content: center;background-color: white;position: relative;}#sk-container-id-2 div.sk-item::before, #sk-container-id-2 div.sk-parallel-item::before {content: \"\";position: absolute;border-left: 1px solid gray;box-sizing: border-box;top: 0;bottom: 0;left: 50%;z-index: -1;}#sk-container-id-2 div.sk-parallel-item {display: flex;flex-direction: column;z-index: 1;position: relative;background-color: white;}#sk-container-id-2 div.sk-parallel-item:first-child::after {align-self: flex-end;width: 50%;}#sk-container-id-2 div.sk-parallel-item:last-child::after {align-self: flex-start;width: 50%;}#sk-container-id-2 div.sk-parallel-item:only-child::after {width: 0;}#sk-container-id-2 div.sk-dashed-wrapped {border: 1px dashed gray;margin: 0 0.4em 0.5em 0.4em;box-sizing: border-box;padding-bottom: 0.4em;background-color: white;}#sk-container-id-2 div.sk-label label {font-family: monospace;font-weight: bold;display: inline-block;line-height: 1.2em;}#sk-container-id-2 div.sk-label-container {text-align: center;}#sk-container-id-2 div.sk-container {/* jupyter's `normalize.less` sets `[hidden] { display: none; }` but bootstrap.min.css set `[hidden] { display: none !important; }` so we also need the `!important` here to be able to override the default hidden behavior on the sphinx rendered scikit-learn.org. See: https://github.com/scikit-learn/scikit-learn/issues/21755 */display: inline-block !important;position: relative;}#sk-container-id-2 div.sk-text-repr-fallback {display: none;}</style><div id=\"sk-container-id-2\" class=\"sk-top-container\"><div class=\"sk-text-repr-fallback\"><pre>SVC(kernel=&#x27;linear&#x27;)</pre><b>In a Jupyter environment, please rerun this cell to show the HTML representation or trust the notebook. <br />On GitHub, the HTML representation is unable to render, please try loading this page with nbviewer.org.</b></div><div class=\"sk-container\" hidden><div class=\"sk-item\"><div class=\"sk-estimator sk-toggleable\"><input class=\"sk-toggleable__control sk-hidden--visually\" id=\"sk-estimator-id-2\" type=\"checkbox\" checked><label for=\"sk-estimator-id-2\" class=\"sk-toggleable__label sk-toggleable__label-arrow\">SVC</label><div class=\"sk-toggleable__content\"><pre>SVC(kernel=&#x27;linear&#x27;)</pre></div></div></div></div></div>"
      ],
      "text/plain": [
       "SVC(kernel='linear')"
      ]
     },
     "execution_count": 9,
     "metadata": {},
     "output_type": "execute_result"
    }
   ],
   "source": [
    "from sklearn.svm import SVC\n",
    "X = merged_data[[\"temp_max\",\"precipitation\",\"temp_min\",\"wind\"]]\n",
    "Y = merged_data[\"Offense Count\"]\n",
    "\n",
    "svm_classifier = SVC(kernel=\"linear\")\n",
    "svm_classifier.fit(X,Y)"
   ]
  },
  {
   "cell_type": "code",
   "execution_count": 10,
   "id": "258c25c6-f493-42ea-9385-895c52d46f56",
   "metadata": {},
   "outputs": [
    {
     "name": "stdout",
     "output_type": "stream",
     "text": [
      "[[654   0   0   0]\n",
      " [ 51   0   0   0]\n",
      " [  8   0   0   0]\n",
      " [  1   0   0   0]]\n",
      "Accuracy is  0.9159663865546218\n",
      "Precision is  0.838994421297931\n",
      "Sensitivity is  0.9159663865546218\n",
      "F1 is  0.8757924222320508\n"
     ]
    },
    {
     "name": "stderr",
     "output_type": "stream",
     "text": [
      "C:\\Users\\s553982\\AppData\\Local\\anaconda3\\Lib\\site-packages\\sklearn\\metrics\\_classification.py:1469: UndefinedMetricWarning: Precision is ill-defined and being set to 0.0 in labels with no predicted samples. Use `zero_division` parameter to control this behavior.\n",
      "  _warn_prf(average, modifier, msg_start, len(result))\n"
     ]
    }
   ],
   "source": [
    "from sklearn.metrics import confusion_matrix\n",
    "y_predicted = svm_classifier.predict(X)\n",
    "matrix = confusion_matrix(Y, y_predicted)\n",
    "print(matrix)\n",
    "\n",
    "print (\"Accuracy is \", accuracy_score(Y, y_predicted))\n",
    "print (\"Precision is \", precision_score(Y, y_predicted, average=\"weighted\"))\n",
    "print (\"Sensitivity is \", recall_score(Y, y_predicted, average=\"weighted\"))\n",
    "print (\"F1 is \", f1_score(Y, y_predicted, average=\"weighted\"))\n"
   ]
  },
  {
   "cell_type": "markdown",
   "id": "cc9ad4e4-5281-4d30-9b23-cd52fae0087a",
   "metadata": {},
   "source": [
    "This model has better accuracy than the first but it predicts 0 for every data point. this is not a desired result."
   ]
  },
  {
   "cell_type": "markdown",
   "id": "1bbf0605-5018-42ec-9f60-3eb2e23337f2",
   "metadata": {},
   "source": [
    "My models have suffered due to a lack of data points in other catagorise compared to the number of zeros. What would happen if we reduced the training data to only contain 100 data points for zero Offences commited"
   ]
  },
  {
   "cell_type": "code",
   "execution_count": 11,
   "id": "2c83d273-08bb-49f1-98f7-79eb22c42f94",
   "metadata": {},
   "outputs": [
    {
     "name": "stdout",
     "output_type": "stream",
     "text": [
      "Offense Count\n",
      "0.0    100\n",
      "1.0     51\n",
      "2.0      8\n",
      "4.0      1\n",
      "Name: count, dtype: int64\n",
      "Number of records in data set: 160\n",
      "% of records that are zero 0.625\n"
     ]
    }
   ],
   "source": [
    "category_to_reduce = merged_data[merged_data['Offense Count'] == 0.0]\n",
    "\n",
    "category_to_reduce = category_to_reduce.sample(frac=1, random_state=42)\n",
    "category_to_reduce_subset = category_to_reduce.head(100)\n",
    "\n",
    "merged_data = merged_data.drop(category_to_reduce.index)\n",
    "merged_data = pd.concat([merged_data, category_to_reduce_subset], ignore_index=True)\n",
    "\n",
    "print(merged_data[\"Offense Count\"].value_counts())\n",
    "print(\"Number of records in data set:\",merged_data[\"Offense Count\"].count())\n",
    "print(\"% of records that are zero\", 100/160)"
   ]
  },
  {
   "cell_type": "code",
   "execution_count": 12,
   "id": "a3f3c782-48e8-4a1b-b051-edf397b0e2b1",
   "metadata": {},
   "outputs": [
    {
     "name": "stdout",
     "output_type": "stream",
     "text": [
      "[[100   0   0   0]\n",
      " [  0  51   0   0]\n",
      " [  0   0   8   0]\n",
      " [  0   0   0   1]]\n",
      "Accuracy is  1.0\n",
      "Precision is  1.0\n",
      "Sensitivity is  1.0\n",
      "F1 is  1.0\n",
      "Cross validation accuracies are:  [0.40625, 0.5, 0.4375, 0.4375, 0.5]\n",
      "Cross validation f1 scores  are:  [0.44400406504065043, 0.4019607843137255, 0.42447916666666663, 0.47687728937728946, 0.5092905405405406]\n"
     ]
    }
   ],
   "source": [
    "X = merged_data[[\"temp_max\",\"precipitation\",\"temp_min\",\"wind\"]]\n",
    "Y = merged_data[\"Offense Count\"]\n",
    "\n",
    "tree_classifier = DecisionTreeClassifier()\n",
    "tree_classifier.fit(X,Y)\n",
    "\n",
    "\n",
    "from sklearn.metrics import confusion_matrix\n",
    "y_predicted = tree_classifier.predict(X)\n",
    "matrix = confusion_matrix(Y, y_predicted)\n",
    "print(matrix)\n",
    "\n",
    "print (\"Accuracy is \", accuracy_score(Y, y_predicted))\n",
    "\n",
    "# We have to specify how to combine for the multiclassifications\n",
    "print (\"Precision is \", precision_score(Y, y_predicted, average=\"weighted\"))\n",
    "print (\"Sensitivity is \", recall_score(Y, y_predicted, average=\"weighted\"))\n",
    "print (\"F1 is \", f1_score(Y, y_predicted, average=\"weighted\"))\n",
    "\n",
    "\n",
    "validation_accuracy = []\n",
    "validation_f1 =[]\n",
    "fold_and_validate = KFold(n_splits=5, shuffle=True, random_state=145)\n",
    "for train_set_indices, validation_set_indices in fold_and_validate.split(X):\n",
    "    cv_train_set = X.iloc[train_set_indices]\n",
    "    cv_train_target = Y.iloc[train_set_indices]\n",
    "    #print(cv_train_set)\n",
    "    \n",
    "    cv_decision_tree = DecisionTreeClassifier()\n",
    "    cv_decision_tree.fit(cv_train_set, cv_train_target)\n",
    "    \n",
    "    cv_xvalidation = X.iloc[validation_set_indices]\n",
    "    cv_y_true = Y.iloc[validation_set_indices]\n",
    "    cv_y_predicted = cv_decision_tree.predict(cv_xvalidation)\n",
    "    \n",
    "    cv_accuracy_score = accuracy_score(cv_y_true, cv_y_predicted)\n",
    "    cv_f1_score = f1_score(cv_y_true, cv_y_predicted,  average=\"weighted\")\n",
    "\n",
    "    validation_accuracy.append(cv_accuracy_score)\n",
    "    validation_f1.append(cv_f1_score)\n",
    "    \n",
    "print(\"Cross validation accuracies are: \", validation_accuracy)\n",
    "print(\"Cross validation f1 scores  are: \", validation_f1)"
   ]
  },
  {
   "cell_type": "markdown",
   "id": "1cbce312-b0b9-4544-be9b-bcef934c03ff",
   "metadata": {},
   "source": [
    "still really bad"
   ]
  },
  {
   "cell_type": "code",
   "execution_count": 13,
   "id": "2a3eec42-c1d3-494b-9360-f67da7ed054c",
   "metadata": {},
   "outputs": [
    {
     "data": {
      "text/html": [
       "<style>#sk-container-id-3 {color: black;}#sk-container-id-3 pre{padding: 0;}#sk-container-id-3 div.sk-toggleable {background-color: white;}#sk-container-id-3 label.sk-toggleable__label {cursor: pointer;display: block;width: 100%;margin-bottom: 0;padding: 0.3em;box-sizing: border-box;text-align: center;}#sk-container-id-3 label.sk-toggleable__label-arrow:before {content: \"▸\";float: left;margin-right: 0.25em;color: #696969;}#sk-container-id-3 label.sk-toggleable__label-arrow:hover:before {color: black;}#sk-container-id-3 div.sk-estimator:hover label.sk-toggleable__label-arrow:before {color: black;}#sk-container-id-3 div.sk-toggleable__content {max-height: 0;max-width: 0;overflow: hidden;text-align: left;background-color: #f0f8ff;}#sk-container-id-3 div.sk-toggleable__content pre {margin: 0.2em;color: black;border-radius: 0.25em;background-color: #f0f8ff;}#sk-container-id-3 input.sk-toggleable__control:checked~div.sk-toggleable__content {max-height: 200px;max-width: 100%;overflow: auto;}#sk-container-id-3 input.sk-toggleable__control:checked~label.sk-toggleable__label-arrow:before {content: \"▾\";}#sk-container-id-3 div.sk-estimator input.sk-toggleable__control:checked~label.sk-toggleable__label {background-color: #d4ebff;}#sk-container-id-3 div.sk-label input.sk-toggleable__control:checked~label.sk-toggleable__label {background-color: #d4ebff;}#sk-container-id-3 input.sk-hidden--visually {border: 0;clip: rect(1px 1px 1px 1px);clip: rect(1px, 1px, 1px, 1px);height: 1px;margin: -1px;overflow: hidden;padding: 0;position: absolute;width: 1px;}#sk-container-id-3 div.sk-estimator {font-family: monospace;background-color: #f0f8ff;border: 1px dotted black;border-radius: 0.25em;box-sizing: border-box;margin-bottom: 0.5em;}#sk-container-id-3 div.sk-estimator:hover {background-color: #d4ebff;}#sk-container-id-3 div.sk-parallel-item::after {content: \"\";width: 100%;border-bottom: 1px solid gray;flex-grow: 1;}#sk-container-id-3 div.sk-label:hover label.sk-toggleable__label {background-color: #d4ebff;}#sk-container-id-3 div.sk-serial::before {content: \"\";position: absolute;border-left: 1px solid gray;box-sizing: border-box;top: 0;bottom: 0;left: 50%;z-index: 0;}#sk-container-id-3 div.sk-serial {display: flex;flex-direction: column;align-items: center;background-color: white;padding-right: 0.2em;padding-left: 0.2em;position: relative;}#sk-container-id-3 div.sk-item {position: relative;z-index: 1;}#sk-container-id-3 div.sk-parallel {display: flex;align-items: stretch;justify-content: center;background-color: white;position: relative;}#sk-container-id-3 div.sk-item::before, #sk-container-id-3 div.sk-parallel-item::before {content: \"\";position: absolute;border-left: 1px solid gray;box-sizing: border-box;top: 0;bottom: 0;left: 50%;z-index: -1;}#sk-container-id-3 div.sk-parallel-item {display: flex;flex-direction: column;z-index: 1;position: relative;background-color: white;}#sk-container-id-3 div.sk-parallel-item:first-child::after {align-self: flex-end;width: 50%;}#sk-container-id-3 div.sk-parallel-item:last-child::after {align-self: flex-start;width: 50%;}#sk-container-id-3 div.sk-parallel-item:only-child::after {width: 0;}#sk-container-id-3 div.sk-dashed-wrapped {border: 1px dashed gray;margin: 0 0.4em 0.5em 0.4em;box-sizing: border-box;padding-bottom: 0.4em;background-color: white;}#sk-container-id-3 div.sk-label label {font-family: monospace;font-weight: bold;display: inline-block;line-height: 1.2em;}#sk-container-id-3 div.sk-label-container {text-align: center;}#sk-container-id-3 div.sk-container {/* jupyter's `normalize.less` sets `[hidden] { display: none; }` but bootstrap.min.css set `[hidden] { display: none !important; }` so we also need the `!important` here to be able to override the default hidden behavior on the sphinx rendered scikit-learn.org. See: https://github.com/scikit-learn/scikit-learn/issues/21755 */display: inline-block !important;position: relative;}#sk-container-id-3 div.sk-text-repr-fallback {display: none;}</style><div id=\"sk-container-id-3\" class=\"sk-top-container\"><div class=\"sk-text-repr-fallback\"><pre>SVC(kernel=&#x27;linear&#x27;)</pre><b>In a Jupyter environment, please rerun this cell to show the HTML representation or trust the notebook. <br />On GitHub, the HTML representation is unable to render, please try loading this page with nbviewer.org.</b></div><div class=\"sk-container\" hidden><div class=\"sk-item\"><div class=\"sk-estimator sk-toggleable\"><input class=\"sk-toggleable__control sk-hidden--visually\" id=\"sk-estimator-id-3\" type=\"checkbox\" checked><label for=\"sk-estimator-id-3\" class=\"sk-toggleable__label sk-toggleable__label-arrow\">SVC</label><div class=\"sk-toggleable__content\"><pre>SVC(kernel=&#x27;linear&#x27;)</pre></div></div></div></div></div>"
      ],
      "text/plain": [
       "SVC(kernel='linear')"
      ]
     },
     "execution_count": 13,
     "metadata": {},
     "output_type": "execute_result"
    }
   ],
   "source": [
    "from sklearn.svm import SVC\n",
    "X = merged_data[[\"temp_max\",\"precipitation\",\"temp_min\",\"wind\"]]\n",
    "Y = merged_data[\"Offense Count\"]\n",
    "\n",
    "svm_classifier = SVC(kernel=\"linear\")\n",
    "svm_classifier.fit(X,Y)"
   ]
  },
  {
   "cell_type": "code",
   "execution_count": 14,
   "id": "77a3cbab-0af5-4f86-9720-7370c027867c",
   "metadata": {},
   "outputs": [
    {
     "name": "stdout",
     "output_type": "stream",
     "text": [
      "[[100   0   0   0]\n",
      " [ 51   0   0   0]\n",
      " [  8   0   0   0]\n",
      " [  1   0   0   0]]\n",
      "Accuracy is  0.625\n",
      "Precision is  0.390625\n",
      "Sensitivity is  0.625\n",
      "F1 is  0.48076923076923084\n",
      "Cross validation accuracies are:  [0.40625, 0.53125, 0.5, 0.4375, 0.46875]\n",
      "Cross validation f1 scores  are:  [0.44579562594268474, 0.4524936868686869, 0.48190789473684215, 0.47687728937728946, 0.47986111111111107]\n"
     ]
    },
    {
     "name": "stderr",
     "output_type": "stream",
     "text": [
      "C:\\Users\\s553982\\AppData\\Local\\anaconda3\\Lib\\site-packages\\sklearn\\metrics\\_classification.py:1469: UndefinedMetricWarning: Precision is ill-defined and being set to 0.0 in labels with no predicted samples. Use `zero_division` parameter to control this behavior.\n",
      "  _warn_prf(average, modifier, msg_start, len(result))\n"
     ]
    }
   ],
   "source": [
    "from sklearn.metrics import confusion_matrix\n",
    "y_predicted = svm_classifier.predict(X)\n",
    "matrix = confusion_matrix(Y, y_predicted)\n",
    "print(matrix)\n",
    "\n",
    "print (\"Accuracy is \", accuracy_score(Y, y_predicted))\n",
    "print (\"Precision is \", precision_score(Y, y_predicted, average=\"weighted\"))\n",
    "print (\"Sensitivity is \", recall_score(Y, y_predicted, average=\"weighted\"))\n",
    "print (\"F1 is \", f1_score(Y, y_predicted, average=\"weighted\"))\n",
    "\n",
    "\n",
    "validation_accuracy = []\n",
    "validation_f1 =[]\n",
    "fold_and_validate = KFold(n_splits=5, shuffle=True, random_state=145)\n",
    "for train_set_indices, validation_set_indices in fold_and_validate.split(X):\n",
    "    cv_train_set = X.iloc[train_set_indices]\n",
    "    cv_train_target = Y.iloc[train_set_indices]\n",
    "    #print(cv_train_set)\n",
    "    \n",
    "    cv_decision_tree = DecisionTreeClassifier()\n",
    "    cv_decision_tree.fit(cv_train_set, cv_train_target)\n",
    "    \n",
    "    cv_xvalidation = X.iloc[validation_set_indices]\n",
    "    cv_y_true = Y.iloc[validation_set_indices]\n",
    "    cv_y_predicted = cv_decision_tree.predict(cv_xvalidation)\n",
    "    \n",
    "    cv_accuracy_score = accuracy_score(cv_y_true, cv_y_predicted)\n",
    "    cv_f1_score = f1_score(cv_y_true, cv_y_predicted,  average=\"weighted\")\n",
    "\n",
    "    validation_accuracy.append(cv_accuracy_score)\n",
    "    validation_f1.append(cv_f1_score)\n",
    "    \n",
    "print(\"Cross validation accuracies are: \", validation_accuracy)\n",
    "print(\"Cross validation f1 scores  are: \", validation_f1)"
   ]
  },
  {
   "cell_type": "markdown",
   "id": "040e284f-9f66-4548-a782-0459740a11a2",
   "metadata": {},
   "source": [
    "Still predicting the same thing for everything. These models appear to be ineffective. There appears to be no correlation to be found within the dataset ive selected. I will now preform the same operations but trying to predict weather condition rather than Offense Count. "
   ]
  },
  {
   "cell_type": "code",
   "execution_count": 17,
   "id": "9e38d885-fda7-4d56-80e3-38473838a2b9",
   "metadata": {},
   "outputs": [
    {
     "name": "stdout",
     "output_type": "stream",
     "text": [
      "[[ 53   0   0   0   0]\n",
      " [  1 640   0   0   0]\n",
      " [  2   0 638   0   0]\n",
      " [  0   0   0  26   0]\n",
      " [  0   0   1   0 100]]\n",
      "Accuracy is  0.9972621492128679\n",
      "Precision is  0.9973710809996491\n",
      "Sensitivity is  0.9972621492128679\n",
      "F1 is  0.9972876343122347\n"
     ]
    }
   ],
   "source": [
    "weather = pd.read_csv(\"seattle-weather.csv\")\n",
    "weather.dropna()\n",
    "\n",
    "weather_mapping = {'drizzle': 0, 'rain': 1, 'sun': 2, 'snow': 3, 'fog': 4}\n",
    "weather[\"weather\"] = weather[\"weather\"].map(weather_mapping)\n",
    "\n",
    "X = weather[[\"temp_max\",\"precipitation\",\"temp_min\",\"wind\"]]\n",
    "Y = weather[\"weather\"]\n",
    "\n",
    "tree_classifier = DecisionTreeClassifier()\n",
    "tree_classifier.fit(X,Y)\n",
    "\n",
    "y_predicted = tree_classifier.predict(X)\n",
    "matrix = confusion_matrix(Y, y_predicted)\n",
    "print(matrix)\n",
    "\n",
    "print (\"Accuracy is \", accuracy_score(Y, y_predicted))\n",
    "print (\"Precision is \", precision_score(Y, y_predicted, average=\"weighted\"))\n",
    "print (\"Sensitivity is \", recall_score(Y, y_predicted, average=\"weighted\"))\n",
    "print (\"F1 is \", f1_score(Y, y_predicted, average=\"weighted\"))\n"
   ]
  },
  {
   "cell_type": "markdown",
   "id": "88de493d-3be9-41cd-8ef5-8f7dc08e0914",
   "metadata": {},
   "source": [
    "Well it looks like it did a pretty good job of splitting them into catagories. lets see what cross validation shows"
   ]
  },
  {
   "cell_type": "code",
   "execution_count": 18,
   "id": "c94955e2-0800-4cff-817f-5e07c779fc86",
   "metadata": {},
   "outputs": [
    {
     "name": "stdout",
     "output_type": "stream",
     "text": [
      "Cross validation accuracies are:  [0.7372013651877133, 0.7534246575342466, 0.7808219178082192, 0.7294520547945206, 0.7636986301369864]\n",
      "Cross validation f1 scores  are:  [0.7493579751886955, 0.7763231123774975, 0.7804903930896234, 0.7323060424598999, 0.7749028762975089]\n"
     ]
    }
   ],
   "source": [
    "validation_accuracy = []\n",
    "validation_f1 =[]\n",
    "fold_and_validate = KFold(n_splits=5, shuffle=True, random_state=145)\n",
    "for train_set_indices, validation_set_indices in fold_and_validate.split(X):\n",
    "    cv_train_set = X.iloc[train_set_indices]\n",
    "    cv_train_target = Y.iloc[train_set_indices]\n",
    "    #print(cv_train_set)\n",
    "    \n",
    "    cv_decision_tree = DecisionTreeClassifier()\n",
    "    cv_decision_tree.fit(cv_train_set, cv_train_target)\n",
    "    \n",
    "    cv_xvalidation = X.iloc[validation_set_indices]\n",
    "    cv_y_true = Y.iloc[validation_set_indices]\n",
    "    cv_y_predicted = cv_decision_tree.predict(cv_xvalidation)\n",
    "    \n",
    "    cv_accuracy_score = accuracy_score(cv_y_true, cv_y_predicted)\n",
    "    cv_f1_score = f1_score(cv_y_true, cv_y_predicted,  average=\"weighted\")\n",
    "\n",
    "    validation_accuracy.append(cv_accuracy_score)\n",
    "    validation_f1.append(cv_f1_score)\n",
    "    \n",
    "print(\"Cross validation accuracies are: \", validation_accuracy)\n",
    "print(\"Cross validation f1 scores  are: \", validation_f1)\n",
    " "
   ]
  },
  {
   "cell_type": "markdown",
   "id": "47174ca4-129d-4532-a3d7-c419a3fd75ff",
   "metadata": {},
   "source": [
    "Cross validation shows that the predictions are not as acruate as the training set shows. lets look at what a base model would do on this data"
   ]
  },
  {
   "cell_type": "code",
   "execution_count": 23,
   "id": "632394a3-9b2f-403d-9394-da866087d365",
   "metadata": {},
   "outputs": [
    {
     "name": "stdout",
     "output_type": "stream",
     "text": [
      "weather\n",
      "1    641\n",
      "2    640\n",
      "4    101\n",
      "0     53\n",
      "3     26\n",
      "Name: count, dtype: int64\n",
      "Number of records in data set: 1461\n",
      "% of records that are one: 0.43874058863791926\n"
     ]
    }
   ],
   "source": [
    "print(weather[\"weather\"].value_counts())\n",
    "print(\"Number of records in data set:\",weather[\"weather\"].count())\n",
    "print(\"% of records that are one:\", 641/1461)"
   ]
  },
  {
   "cell_type": "markdown",
   "id": "8d8cda88-e289-475f-92a7-8ee357fe43fb",
   "metadata": {},
   "source": [
    "This model actually appears to be good at predicting things compared to my previous ones. "
   ]
  },
  {
   "cell_type": "code",
   "execution_count": 27,
   "id": "76924fe4-a752-4c5e-bcba-4a680b4578d7",
   "metadata": {},
   "outputs": [
    {
     "name": "stdout",
     "output_type": "stream",
     "text": [
      "[[  0   0  53   0   0]\n",
      " [  0 597  44   0   0]\n",
      " [  0   0 640   0   0]\n",
      " [  0  20   0   6   0]\n",
      " [  0   0 101   0   0]]\n",
      "Accuracy is  0.8507871321013005\n",
      "Precision is  0.77686848622074\n",
      "Sensitivity is  0.8507871321013005\n",
      "F1 is  0.8024654511081195\n",
      "Cross validation accuracies are:  [0.8054607508532423, 0.7808219178082192, 0.7397260273972602, 0.791095890410959, 0.7191780821917808]\n",
      "Cross validation f1 scores  are:  [0.7991479545735407, 0.773871909963878, 0.7465216704688776, 0.7886965884724806, 0.7176456685409036]\n"
     ]
    },
    {
     "name": "stderr",
     "output_type": "stream",
     "text": [
      "C:\\Users\\s553982\\AppData\\Local\\anaconda3\\Lib\\site-packages\\sklearn\\metrics\\_classification.py:1469: UndefinedMetricWarning: Precision is ill-defined and being set to 0.0 in labels with no predicted samples. Use `zero_division` parameter to control this behavior.\n",
      "  _warn_prf(average, modifier, msg_start, len(result))\n"
     ]
    }
   ],
   "source": [
    "from sklearn.svm import SVC\n",
    "X = weather[[\"temp_max\",\"precipitation\",\"temp_min\",\"wind\"]]\n",
    "Y = weather[\"weather\"]\n",
    "\n",
    "svm_classifier = SVC(kernel=\"linear\")\n",
    "svm_classifier.fit(X,Y)\n",
    "\n",
    "y_predicted = svm_classifier.predict(X)\n",
    "matrix = confusion_matrix(Y, y_predicted)\n",
    "print(matrix)\n",
    "\n",
    "print (\"Accuracy is \", accuracy_score(Y, y_predicted))\n",
    "print (\"Precision is \", precision_score(Y, y_predicted, average=\"weighted\"))\n",
    "print (\"Sensitivity is \", recall_score(Y, y_predicted, average=\"weighted\"))\n",
    "print (\"F1 is \", f1_score(Y, y_predicted, average=\"weighted\"))\n",
    "\n",
    "\n",
    "validation_accuracy = []\n",
    "validation_f1 =[]\n",
    "fold_and_validate = KFold(n_splits=5, shuffle=True, random_state=12)\n",
    "for train_set_indices, validation_set_indices in fold_and_validate.split(X):\n",
    "    cv_train_set = X.iloc[train_set_indices]\n",
    "    cv_train_target = Y.iloc[train_set_indices]\n",
    "    #print(cv_train_set)\n",
    "    \n",
    "    cv_decision_tree = DecisionTreeClassifier()\n",
    "    cv_decision_tree.fit(cv_train_set, cv_train_target)\n",
    "    \n",
    "    cv_xvalidation = X.iloc[validation_set_indices]\n",
    "    cv_y_true = Y.iloc[validation_set_indices]\n",
    "    cv_y_predicted = cv_decision_tree.predict(cv_xvalidation)\n",
    "    \n",
    "    cv_accuracy_score = accuracy_score(cv_y_true, cv_y_predicted)\n",
    "    cv_f1_score = f1_score(cv_y_true, cv_y_predicted,  average=\"weighted\")\n",
    "\n",
    "    validation_accuracy.append(cv_accuracy_score)\n",
    "    validation_f1.append(cv_f1_score)\n",
    "    \n",
    "print(\"Cross validation accuracies are: \", validation_accuracy)\n",
    "print(\"Cross validation f1 scores  are: \", validation_f1)"
   ]
  },
  {
   "cell_type": "markdown",
   "id": "05f1aed1-1fc1-41bb-bc39-d45242bcfce6",
   "metadata": {},
   "source": [
    "This one does not appear to be all in all that great. It does not predict two of the options. however, its accuracies are better than the previous ones. "
   ]
  },
  {
   "cell_type": "code",
   "execution_count": 28,
   "id": "36da4c75-f465-4e33-9865-5e4d5d865bb4",
   "metadata": {},
   "outputs": [
    {
     "ename": "SyntaxError",
     "evalue": "invalid syntax (4143009557.py, line 1)",
     "output_type": "error",
     "traceback": [
      "\u001b[1;36m  Cell \u001b[1;32mIn[28], line 1\u001b[1;36m\u001b[0m\n\u001b[1;33m    What I learned:\u001b[0m\n\u001b[1;37m         ^\u001b[0m\n\u001b[1;31mSyntaxError\u001b[0m\u001b[1;31m:\u001b[0m invalid syntax\n"
     ]
    }
   ],
   "source": [
    "What I learned:"
   ]
  },
  {
   "cell_type": "code",
   "execution_count": null,
   "id": "62cab04d-2c47-4466-b85b-1da51371adc8",
   "metadata": {},
   "outputs": [],
   "source": []
  }
 ],
 "metadata": {
  "kernelspec": {
   "display_name": "Python 3 (ipykernel)",
   "language": "python",
   "name": "python3"
  },
  "language_info": {
   "codemirror_mode": {
    "name": "ipython",
    "version": 3
   },
   "file_extension": ".py",
   "mimetype": "text/x-python",
   "name": "python",
   "nbconvert_exporter": "python",
   "pygments_lexer": "ipython3",
   "version": "3.11.5"
  }
 },
 "nbformat": 4,
 "nbformat_minor": 5
}
