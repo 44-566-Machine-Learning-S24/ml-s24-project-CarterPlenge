{
 "cells": [
  {
   "cell_type": "markdown",
   "id": "af864972-e1cf-4712-8fa4-311f2e904b6b",
   "metadata": {},
   "source": [
    "Part B: Create a notebook called linear_regression<br>\n",
    "<br>\n",
    "Python: Initial data prep section.  Read, clean and create sets.<br>\n",
    "Markdown: Pick an initial set of features for X and the target feature y.  Explain <br>why you made this choice.<br>\n",
    "Python: Do a linear regression on X and y.  Compute metrics.<br>\n",
    "Markdown: Comment on the results.<br>\n",
    "Python: See if you can do better.<br>\n",
    "Python: Do a final evaluation with the test set.<br>\n",
    "Markdown: Look at the parameters you found and discuss what you have learned.<br>"
   ]
  },
  {
   "cell_type": "code",
   "execution_count": 5,
   "id": "f1318f24-5206-41ee-ba30-ad305c04465f",
   "metadata": {},
   "outputs": [
    {
     "data": {
      "text/html": [
       "<div>\n",
       "<style scoped>\n",
       "    .dataframe tbody tr th:only-of-type {\n",
       "        vertical-align: middle;\n",
       "    }\n",
       "\n",
       "    .dataframe tbody tr th {\n",
       "        vertical-align: top;\n",
       "    }\n",
       "\n",
       "    .dataframe thead th {\n",
       "        text-align: right;\n",
       "    }\n",
       "</style>\n",
       "<table border=\"1\" class=\"dataframe\">\n",
       "  <thead>\n",
       "    <tr style=\"text-align: right;\">\n",
       "      <th></th>\n",
       "      <th>date</th>\n",
       "      <th>precipitation</th>\n",
       "      <th>temp_max</th>\n",
       "      <th>temp_min</th>\n",
       "      <th>wind</th>\n",
       "      <th>weather</th>\n",
       "      <th>Report Date</th>\n",
       "      <th>Offense Count</th>\n",
       "    </tr>\n",
       "  </thead>\n",
       "  <tbody>\n",
       "    <tr>\n",
       "      <th>0</th>\n",
       "      <td>2014-01-17</td>\n",
       "      <td>0.0</td>\n",
       "      <td>5.6</td>\n",
       "      <td>2.8</td>\n",
       "      <td>2.3</td>\n",
       "      <td>2</td>\n",
       "      <td>2014-01-17</td>\n",
       "      <td>2.0</td>\n",
       "    </tr>\n",
       "    <tr>\n",
       "      <th>1</th>\n",
       "      <td>2014-01-18</td>\n",
       "      <td>0.0</td>\n",
       "      <td>9.4</td>\n",
       "      <td>0.6</td>\n",
       "      <td>2.2</td>\n",
       "      <td>2</td>\n",
       "      <td>NaT</td>\n",
       "      <td>0.0</td>\n",
       "    </tr>\n",
       "    <tr>\n",
       "      <th>2</th>\n",
       "      <td>2014-01-19</td>\n",
       "      <td>0.0</td>\n",
       "      <td>6.1</td>\n",
       "      <td>3.3</td>\n",
       "      <td>2.5</td>\n",
       "      <td>2</td>\n",
       "      <td>2014-01-19</td>\n",
       "      <td>2.0</td>\n",
       "    </tr>\n",
       "    <tr>\n",
       "      <th>3</th>\n",
       "      <td>2014-01-20</td>\n",
       "      <td>0.0</td>\n",
       "      <td>10.0</td>\n",
       "      <td>2.8</td>\n",
       "      <td>2.2</td>\n",
       "      <td>2</td>\n",
       "      <td>NaT</td>\n",
       "      <td>0.0</td>\n",
       "    </tr>\n",
       "    <tr>\n",
       "      <th>4</th>\n",
       "      <td>2014-01-21</td>\n",
       "      <td>0.0</td>\n",
       "      <td>10.0</td>\n",
       "      <td>1.7</td>\n",
       "      <td>1.5</td>\n",
       "      <td>2</td>\n",
       "      <td>NaT</td>\n",
       "      <td>0.0</td>\n",
       "    </tr>\n",
       "  </tbody>\n",
       "</table>\n",
       "</div>"
      ],
      "text/plain": [
       "        date  precipitation  temp_max  temp_min  wind  weather Report Date  \\\n",
       "0 2014-01-17            0.0       5.6       2.8   2.3        2  2014-01-17   \n",
       "1 2014-01-18            0.0       9.4       0.6   2.2        2         NaT   \n",
       "2 2014-01-19            0.0       6.1       3.3   2.5        2  2014-01-19   \n",
       "3 2014-01-20            0.0      10.0       2.8   2.2        2         NaT   \n",
       "4 2014-01-21            0.0      10.0       1.7   1.5        2         NaT   \n",
       "\n",
       "   Offense Count  \n",
       "0            2.0  \n",
       "1            0.0  \n",
       "2            2.0  \n",
       "3            0.0  \n",
       "4            0.0  "
      ]
     },
     "execution_count": 5,
     "metadata": {},
     "output_type": "execute_result"
    }
   ],
   "source": [
    "#bringing in, cleaning, and merging datasets\n",
    "import pandas as pd\n",
    "#import the csv files\n",
    "weather = pd.read_csv(\"seattle-weather.csv\")\n",
    "reports = pd.read_csv(\"SPD_Reports.csv\")\n",
    "\n",
    "\n",
    "#remove data that will be unused\n",
    "reports.drop(columns=[\"Offense Description\", \"Block\", \"District\",\"Beat\",\"2000 Census Tract\",\"Longitude\",\"Latitude\",\"Offense Start Date\",\"Offense End Date\"],inplace=True)\n",
    "\n",
    "#fix data types\n",
    "reports[\"Report Date\"] = pd.to_datetime(reports[\"Report Date\"])\n",
    "weather[\"date\"] = pd.to_datetime(weather[\"date\"])\n",
    "\n",
    "weather_mapping = {'drizzle': 0, 'rain': 1, 'sun': 2, 'snow': 3, 'fog': 4}\n",
    "weather[\"weather\"] = weather[\"weather\"].map(weather_mapping)\n",
    "\n",
    "# Define the date range covered by data sets\n",
    "start_date = pd.to_datetime(\"2014-01-17\")\n",
    "end_date = pd.to_datetime(\"2015-12-31\")\n",
    "\n",
    "# Filter out unusable records\n",
    "reports_filtered = reports[(reports[\"Report Date\"] >= start_date) & (reports[\"Report Date\"] <= end_date)]\n",
    "weather_filtered = weather[(weather[\"date\"] >= start_date) & (weather[\"date\"] <= end_date)]\n",
    "\n",
    "#merge datasets\n",
    "merged_data = pd.merge(weather_filtered, reports_filtered.groupby('Report Date').size().reset_index(name='Offense Count'), left_on=\"date\", right_on=\"Report Date\", how=\"left\")\n",
    "merged_data['Offense Count'].fillna(0, inplace=True)\n",
    "merged_data.head()"
   ]
  },
  {
   "cell_type": "code",
   "execution_count": 14,
   "id": "4f2510b4-c63b-49f4-b936-5b2327fc2edb",
   "metadata": {},
   "outputs": [
    {
     "data": {
      "text/html": [
       "<style>#sk-container-id-6 {color: black;}#sk-container-id-6 pre{padding: 0;}#sk-container-id-6 div.sk-toggleable {background-color: white;}#sk-container-id-6 label.sk-toggleable__label {cursor: pointer;display: block;width: 100%;margin-bottom: 0;padding: 0.3em;box-sizing: border-box;text-align: center;}#sk-container-id-6 label.sk-toggleable__label-arrow:before {content: \"▸\";float: left;margin-right: 0.25em;color: #696969;}#sk-container-id-6 label.sk-toggleable__label-arrow:hover:before {color: black;}#sk-container-id-6 div.sk-estimator:hover label.sk-toggleable__label-arrow:before {color: black;}#sk-container-id-6 div.sk-toggleable__content {max-height: 0;max-width: 0;overflow: hidden;text-align: left;background-color: #f0f8ff;}#sk-container-id-6 div.sk-toggleable__content pre {margin: 0.2em;color: black;border-radius: 0.25em;background-color: #f0f8ff;}#sk-container-id-6 input.sk-toggleable__control:checked~div.sk-toggleable__content {max-height: 200px;max-width: 100%;overflow: auto;}#sk-container-id-6 input.sk-toggleable__control:checked~label.sk-toggleable__label-arrow:before {content: \"▾\";}#sk-container-id-6 div.sk-estimator input.sk-toggleable__control:checked~label.sk-toggleable__label {background-color: #d4ebff;}#sk-container-id-6 div.sk-label input.sk-toggleable__control:checked~label.sk-toggleable__label {background-color: #d4ebff;}#sk-container-id-6 input.sk-hidden--visually {border: 0;clip: rect(1px 1px 1px 1px);clip: rect(1px, 1px, 1px, 1px);height: 1px;margin: -1px;overflow: hidden;padding: 0;position: absolute;width: 1px;}#sk-container-id-6 div.sk-estimator {font-family: monospace;background-color: #f0f8ff;border: 1px dotted black;border-radius: 0.25em;box-sizing: border-box;margin-bottom: 0.5em;}#sk-container-id-6 div.sk-estimator:hover {background-color: #d4ebff;}#sk-container-id-6 div.sk-parallel-item::after {content: \"\";width: 100%;border-bottom: 1px solid gray;flex-grow: 1;}#sk-container-id-6 div.sk-label:hover label.sk-toggleable__label {background-color: #d4ebff;}#sk-container-id-6 div.sk-serial::before {content: \"\";position: absolute;border-left: 1px solid gray;box-sizing: border-box;top: 0;bottom: 0;left: 50%;z-index: 0;}#sk-container-id-6 div.sk-serial {display: flex;flex-direction: column;align-items: center;background-color: white;padding-right: 0.2em;padding-left: 0.2em;position: relative;}#sk-container-id-6 div.sk-item {position: relative;z-index: 1;}#sk-container-id-6 div.sk-parallel {display: flex;align-items: stretch;justify-content: center;background-color: white;position: relative;}#sk-container-id-6 div.sk-item::before, #sk-container-id-6 div.sk-parallel-item::before {content: \"\";position: absolute;border-left: 1px solid gray;box-sizing: border-box;top: 0;bottom: 0;left: 50%;z-index: -1;}#sk-container-id-6 div.sk-parallel-item {display: flex;flex-direction: column;z-index: 1;position: relative;background-color: white;}#sk-container-id-6 div.sk-parallel-item:first-child::after {align-self: flex-end;width: 50%;}#sk-container-id-6 div.sk-parallel-item:last-child::after {align-self: flex-start;width: 50%;}#sk-container-id-6 div.sk-parallel-item:only-child::after {width: 0;}#sk-container-id-6 div.sk-dashed-wrapped {border: 1px dashed gray;margin: 0 0.4em 0.5em 0.4em;box-sizing: border-box;padding-bottom: 0.4em;background-color: white;}#sk-container-id-6 div.sk-label label {font-family: monospace;font-weight: bold;display: inline-block;line-height: 1.2em;}#sk-container-id-6 div.sk-label-container {text-align: center;}#sk-container-id-6 div.sk-container {/* jupyter's `normalize.less` sets `[hidden] { display: none; }` but bootstrap.min.css set `[hidden] { display: none !important; }` so we also need the `!important` here to be able to override the default hidden behavior on the sphinx rendered scikit-learn.org. See: https://github.com/scikit-learn/scikit-learn/issues/21755 */display: inline-block !important;position: relative;}#sk-container-id-6 div.sk-text-repr-fallback {display: none;}</style><div id=\"sk-container-id-6\" class=\"sk-top-container\"><div class=\"sk-text-repr-fallback\"><pre>LinearRegression()</pre><b>In a Jupyter environment, please rerun this cell to show the HTML representation or trust the notebook. <br />On GitHub, the HTML representation is unable to render, please try loading this page with nbviewer.org.</b></div><div class=\"sk-container\" hidden><div class=\"sk-item\"><div class=\"sk-estimator sk-toggleable\"><input class=\"sk-toggleable__control sk-hidden--visually\" id=\"sk-estimator-id-6\" type=\"checkbox\" checked><label for=\"sk-estimator-id-6\" class=\"sk-toggleable__label sk-toggleable__label-arrow\">LinearRegression</label><div class=\"sk-toggleable__content\"><pre>LinearRegression()</pre></div></div></div></div></div>"
      ],
      "text/plain": [
       "LinearRegression()"
      ]
     },
     "execution_count": 14,
     "metadata": {},
     "output_type": "execute_result"
    }
   ],
   "source": []
  },
  {
   "cell_type": "markdown",
   "id": "e14ff524-92e3-4886-99ef-932ff34a5fbd",
   "metadata": {},
   "source": [
    "I chose to train the data set using <br>\n",
    "\"precipitation\", \"temp_max\", \"temp_min\", \"wind\",\"weather\"<br>\n",
    "Because all of these attributes reflect the overall type of day.<br>\n",
    "I thought there might be a correlation between the condition of the day<br>\n",
    "and crimes because I figured people wouldn't be out as much on days with<br>\n",
    "worse conditions. <br>\n",
    "I also didn't realize that using two different data sets was not a <br>\n",
    "requirement. But hey, now I know how to merge data sets and stuff. "
   ]
  },
  {
   "cell_type": "code",
   "execution_count": 15,
   "id": "820109ef-e044-4db9-8c2e-c66c69378ee9",
   "metadata": {},
   "outputs": [
    {
     "name": "stdout",
     "output_type": "stream",
     "text": [
      "Mean Squared Error: 0.09836797688518946\n"
     ]
    }
   ],
   "source": [
    "#Testing the model\n",
    "X_test = test_set[use]\n",
    "Y_test = test_set[find]\n",
    "Y_pred = reg.predict(X_test)\n",
    "\n",
    "# Calculate Mean Squared Error\n",
    "from sklearn.metrics import mean_squared_error\n",
    "mse = mean_squared_error(Y_test, Y_pred)\n",
    "print(\"Mean Squared Error:\", mse)"
   ]
  },
  {
   "cell_type": "markdown",
   "id": "f4c88a62-4bd4-4d20-8d62-3831b330b550",
   "metadata": {},
   "source": [
    "The model had a Mean Squared Error value of .09. If you compare this to <br>\n",
    "The model in the initial_exploration notebook that didn't predict and only<br>\n",
    "predicted 0, had a Mean Squared Error value of .22. This means that this<br>\n",
    "model is an average of .13 closer to the actual value than the unpredictive<br>\n",
    "model. <br>\n",
    "<br>\n",
    "I have tested this model a fair bit and have found 41 to be the best seed.<br>\n",
    "42 and 38 are particularly bad seeds, being almost as inaccurate as the\n",
    "unpredictive model.<br>\n",
    "In addition to that when I first created it i didn't have the \"weather\" <br>\n",
    "attribute included in the predictive model. By adding it the model increased<br>\n",
    "accuracy. "
   ]
  }
 ],
 "metadata": {
  "kernelspec": {
   "display_name": "Python 3 (ipykernel)",
   "language": "python",
   "name": "python3"
  },
  "language_info": {
   "codemirror_mode": {
    "name": "ipython",
    "version": 3
   },
   "file_extension": ".py",
   "mimetype": "text/x-python",
   "name": "python",
   "nbconvert_exporter": "python",
   "pygments_lexer": "ipython3",
   "version": "3.11.5"
  }
 },
 "nbformat": 4,
 "nbformat_minor": 5
}
