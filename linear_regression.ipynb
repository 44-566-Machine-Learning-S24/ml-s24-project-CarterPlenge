{
 "cells": [
  {
   "cell_type": "markdown",
   "id": "af864972-e1cf-4712-8fa4-311f2e904b6b",
   "metadata": {},
   "source": [
    "Part B: Create a notebook called linear_regression<br>\n",
    "<br>\n",
    "Python: Initial data prep section.  Read, clean and create sets.<br>\n",
    "Markdown: Pick an initial set of features for X and the target feature y.  Explain <br>why you made this choice.<br>\n",
    "Python: Do a linear regression on X and y.  Compute metrics.<br>\n",
    "Markdown: Comment on the results.<br>\n",
    "Python: See if you can do better.<br>\n",
    "Python: Do a final evaluation with the test set.<br>\n",
    "Markdown: Look at the parameters you found and discuss what you have learned.<br>"
   ]
  },
  {
   "cell_type": "code",
   "execution_count": 2,
   "id": "f1318f24-5206-41ee-ba30-ad305c04465f",
   "metadata": {},
   "outputs": [
    {
     "data": {
      "text/html": [
       "<div>\n",
       "<style scoped>\n",
       "    .dataframe tbody tr th:only-of-type {\n",
       "        vertical-align: middle;\n",
       "    }\n",
       "\n",
       "    .dataframe tbody tr th {\n",
       "        vertical-align: top;\n",
       "    }\n",
       "\n",
       "    .dataframe thead th {\n",
       "        text-align: right;\n",
       "    }\n",
       "</style>\n",
       "<table border=\"1\" class=\"dataframe\">\n",
       "  <thead>\n",
       "    <tr style=\"text-align: right;\">\n",
       "      <th></th>\n",
       "      <th>precipitation</th>\n",
       "      <th>temp_max</th>\n",
       "      <th>temp_min</th>\n",
       "      <th>wind</th>\n",
       "      <th>weather</th>\n",
       "    </tr>\n",
       "  </thead>\n",
       "  <tbody>\n",
       "    <tr>\n",
       "      <th>0</th>\n",
       "      <td>0.0</td>\n",
       "      <td>12.8</td>\n",
       "      <td>5.0</td>\n",
       "      <td>4.7</td>\n",
       "      <td>0</td>\n",
       "    </tr>\n",
       "    <tr>\n",
       "      <th>1</th>\n",
       "      <td>10.9</td>\n",
       "      <td>10.6</td>\n",
       "      <td>2.8</td>\n",
       "      <td>4.5</td>\n",
       "      <td>1</td>\n",
       "    </tr>\n",
       "    <tr>\n",
       "      <th>2</th>\n",
       "      <td>0.8</td>\n",
       "      <td>11.7</td>\n",
       "      <td>7.2</td>\n",
       "      <td>2.3</td>\n",
       "      <td>1</td>\n",
       "    </tr>\n",
       "    <tr>\n",
       "      <th>3</th>\n",
       "      <td>20.3</td>\n",
       "      <td>12.2</td>\n",
       "      <td>5.6</td>\n",
       "      <td>4.7</td>\n",
       "      <td>1</td>\n",
       "    </tr>\n",
       "    <tr>\n",
       "      <th>4</th>\n",
       "      <td>1.3</td>\n",
       "      <td>8.9</td>\n",
       "      <td>2.8</td>\n",
       "      <td>6.1</td>\n",
       "      <td>1</td>\n",
       "    </tr>\n",
       "    <tr>\n",
       "      <th>...</th>\n",
       "      <td>...</td>\n",
       "      <td>...</td>\n",
       "      <td>...</td>\n",
       "      <td>...</td>\n",
       "      <td>...</td>\n",
       "    </tr>\n",
       "    <tr>\n",
       "      <th>1456</th>\n",
       "      <td>8.6</td>\n",
       "      <td>4.4</td>\n",
       "      <td>1.7</td>\n",
       "      <td>2.9</td>\n",
       "      <td>1</td>\n",
       "    </tr>\n",
       "    <tr>\n",
       "      <th>1457</th>\n",
       "      <td>1.5</td>\n",
       "      <td>5.0</td>\n",
       "      <td>1.7</td>\n",
       "      <td>1.3</td>\n",
       "      <td>1</td>\n",
       "    </tr>\n",
       "    <tr>\n",
       "      <th>1458</th>\n",
       "      <td>0.0</td>\n",
       "      <td>7.2</td>\n",
       "      <td>0.6</td>\n",
       "      <td>2.6</td>\n",
       "      <td>4</td>\n",
       "    </tr>\n",
       "    <tr>\n",
       "      <th>1459</th>\n",
       "      <td>0.0</td>\n",
       "      <td>5.6</td>\n",
       "      <td>-1.0</td>\n",
       "      <td>3.4</td>\n",
       "      <td>2</td>\n",
       "    </tr>\n",
       "    <tr>\n",
       "      <th>1460</th>\n",
       "      <td>0.0</td>\n",
       "      <td>5.6</td>\n",
       "      <td>-2.1</td>\n",
       "      <td>3.5</td>\n",
       "      <td>2</td>\n",
       "    </tr>\n",
       "  </tbody>\n",
       "</table>\n",
       "<p>1461 rows × 5 columns</p>\n",
       "</div>"
      ],
      "text/plain": [
       "      precipitation  temp_max  temp_min  wind  weather\n",
       "0               0.0      12.8       5.0   4.7        0\n",
       "1              10.9      10.6       2.8   4.5        1\n",
       "2               0.8      11.7       7.2   2.3        1\n",
       "3              20.3      12.2       5.6   4.7        1\n",
       "4               1.3       8.9       2.8   6.1        1\n",
       "...             ...       ...       ...   ...      ...\n",
       "1456            8.6       4.4       1.7   2.9        1\n",
       "1457            1.5       5.0       1.7   1.3        1\n",
       "1458            0.0       7.2       0.6   2.6        4\n",
       "1459            0.0       5.6      -1.0   3.4        2\n",
       "1460            0.0       5.6      -2.1   3.5        2\n",
       "\n",
       "[1461 rows x 5 columns]"
      ]
     },
     "execution_count": 2,
     "metadata": {},
     "output_type": "execute_result"
    }
   ],
   "source": [
    "import pandas as pd\n",
    "#import the csv files\n",
    "weather = pd.read_csv(\"seattle-weather.csv\")\n",
    "\n",
    "weather[\"date\"] = pd.to_datetime(weather[\"date\"])\n",
    "\n",
    "#convert weather field into numerical values\n",
    "weather_mapping = {'drizzle': 0, 'rain': 1, 'sun': 2, 'snow': 3, 'fog': 4}\n",
    "weather[\"weather\"] = weather[\"weather\"].map(weather_mapping)\n",
    "\n",
    "weather.dropna()\n",
    "weather.drop(columns=[\"date\"])"
   ]
  },
  {
   "cell_type": "code",
   "execution_count": 3,
   "id": "4f2510b4-c63b-49f4-b936-5b2327fc2edb",
   "metadata": {},
   "outputs": [],
   "source": [
    "from sklearn.model_selection import train_test_split\n",
    "from sklearn.linear_model import ElasticNet\n",
    "train_set, test_set = train_test_split(weather,test_size=0.2,random_state=123)\n",
    "reg = ElasticNet(alpha = 1.0, l1_ratio=0.5)\n",
    "\n",
    "use = [\"temp_max\",\"wind\", \"precipitation\"]\n",
    "find = [\"weather\"]"
   ]
  },
  {
   "cell_type": "markdown",
   "id": "e14ff524-92e3-4886-99ef-932ff34a5fbd",
   "metadata": {},
   "source": [
    "I chose to train the data set using <br>\n",
    "\"precipitation\", \"temp_max\", and, \"wind\"<br>\n",
    "I chose to use these features because they showed a small correlation in the <br>\n",
    "initial exploration notebook. I tryed it with temp_min included but the mse was similar so i chose to keep it out to help avoid overfitting. "
   ]
  },
  {
   "cell_type": "code",
   "execution_count": 4,
   "id": "820109ef-e044-4db9-8c2e-c66c69378ee9",
   "metadata": {},
   "outputs": [
    {
     "name": "stdout",
     "output_type": "stream",
     "text": [
      "Mean Squared Error: 0.7110632507789894\n"
     ]
    }
   ],
   "source": [
    "working_set = train_set.copy()\n",
    "\n",
    "X_test = working_set[use]\n",
    "Y_test = working_set[find]\n",
    "\n",
    "reg.fit(X_test, Y_test)\n",
    "\n",
    "Y_pred = reg.predict(test_set[use])\n",
    "\n",
    "from sklearn.metrics import mean_squared_error\n",
    "mse = mean_squared_error(test_set[find], Y_pred)\n",
    "print(\"Mean Squared Error:\", mse)"
   ]
  },
  {
   "cell_type": "markdown",
   "id": "f4c88a62-4bd4-4d20-8d62-3831b330b550",
   "metadata": {},
   "source": [
    "The model had a Mean Squared Error value of 0.71. This is not that great  however with the data I have and what I am trying to predict, this is to be expected due to the predicted feature not being a actually value.  "
   ]
  },
  {
   "cell_type": "code",
   "execution_count": null,
   "id": "b456dcf2-e0d6-4aae-991c-22e79afdbd61",
   "metadata": {},
   "outputs": [],
   "source": []
  }
 ],
 "metadata": {
  "kernelspec": {
   "display_name": "Python 3 (ipykernel)",
   "language": "python",
   "name": "python3"
  },
  "language_info": {
   "codemirror_mode": {
    "name": "ipython",
    "version": 3
   },
   "file_extension": ".py",
   "mimetype": "text/x-python",
   "name": "python",
   "nbconvert_exporter": "python",
   "pygments_lexer": "ipython3",
   "version": "3.11.5"
  }
 },
 "nbformat": 4,
 "nbformat_minor": 5
}
